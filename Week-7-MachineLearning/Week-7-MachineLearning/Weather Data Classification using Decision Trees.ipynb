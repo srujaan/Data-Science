{
 "cells": [
  {
   "cell_type": "markdown",
   "metadata": {
    "collapsed": true
   },
   "source": [
    "<p style=\"font-family: Arial; font-size:2.75em;color:purple; font-style:bold\">\n",
    "\n",
    "Classification of Weather Data <br><br>\n",
    "using scikit-learn\n",
    "<br><br>\n",
    "</p>"
   ]
  },
  {
   "cell_type": "markdown",
   "metadata": {},
   "source": [
    "<p style=\"font-family: Arial; font-size:1.75em;color:purple; font-style:bold\"><br>\n",
    "Daily Weather Data Analysis</p>\n",
    "\n",
    "In this notebook, we will use scikit-learn to perform a decision tree based classification of weather data."
   ]
  },
  {
   "cell_type": "markdown",
   "metadata": {},
   "source": [
    "<p style=\"font-family: Arial; font-size:1.75em;color:purple; font-style:bold\"><br>\n",
    "\n",
    "Importing the Necessary Libraries<br></p>"
   ]
  },
  {
   "cell_type": "code",
   "execution_count": 1,
   "metadata": {
    "collapsed": true
   },
   "outputs": [],
   "source": [
    "import pandas as pd\n",
    "from sklearn.metrics import accuracy_score\n",
    "from sklearn.model_selection import train_test_split\n",
    "from sklearn.tree import DecisionTreeClassifier"
   ]
  },
  {
   "cell_type": "markdown",
   "metadata": {},
   "source": [
    "<p style=\"font-family: Arial; font-size:1.75em;color:purple; font-style:bold\"><br>\n",
    "\n",
    "Creating a Pandas DataFrame from a CSV file<br></p>\n"
   ]
  },
  {
   "cell_type": "code",
   "execution_count": 2,
   "metadata": {
    "collapsed": false
   },
   "outputs": [],
   "source": [
    "data = pd.read_csv('./weather/daily_weather.csv')"
   ]
  },
  {
   "cell_type": "markdown",
   "metadata": {},
   "source": [
    "<p style=\"font-family: Arial; font-size:1.75em;color:purple; font-style:bold\">Daily Weather Data Description</p>\n",
    "<br>\n",
    "The file **daily_weather.csv** is a comma-separated file that contains weather data.  This data comes from a weather station located in San Diego, California.  The weather station is equipped with sensors that capture weather-related measurements such as air temperature, air pressure, and relative humidity.  Data was collected for a period of three years, from September 2011 to September 2014, to ensure that sufficient data for different seasons and weather conditions is captured.<br><br>\n",
    "Let's now check all the columns in the data."
   ]
  },
  {
   "cell_type": "code",
   "execution_count": 3,
   "metadata": {
    "collapsed": false
   },
   "outputs": [
    {
     "output_type": "execute_result",
     "data": {
      "text/plain": "Index(['number', 'air_pressure_9am', 'air_temp_9am', 'avg_wind_direction_9am',\n       'avg_wind_speed_9am', 'max_wind_direction_9am', 'max_wind_speed_9am',\n       'rain_accumulation_9am', 'rain_duration_9am', 'relative_humidity_9am',\n       'relative_humidity_3pm'],\n      dtype='object')"
     },
     "metadata": {},
     "execution_count": 3
    }
   ],
   "source": [
    "data.columns"
   ]
  },
  {
   "cell_type": "markdown",
   "metadata": {},
   "source": [
    "<br>Each row in daily_weather.csv captures weather data for a separate day.  <br><br>\n",
    "Sensor measurements from the weather station were captured at one-minute intervals.  These measurements were then processed to generate values to describe daily weather. Since this dataset was created to classify low-humidity days vs. non-low-humidity days (that is, days with normal or high humidity), the variables included are weather measurements in the morning, with one measurement, namely relatively humidity, in the afternoon.  The idea is to use the morning weather values to predict whether the day will be low-humidity or not based on the afternoon measurement of relative humidity.\n",
    "\n",
    "Each row, or sample, consists of the following variables:\n",
    "\n",
    "* **number:** unique number for each row\n",
    "* **air_pressure_9am:** air pressure averaged over a period from 8:55am to 9:04am (*Unit: hectopascals*)\n",
    "* **air_temp_9am:** air temperature averaged over a period from 8:55am to 9:04am (*Unit: degrees Fahrenheit*)\n",
    "* **air_wind_direction_9am:** wind direction averaged over a period from 8:55am to 9:04am (*Unit: degrees, with 0 means coming from the North, and increasing clockwise*)\n",
    "* **air_wind_speed_9am:** wind speed averaged over a period from 8:55am to 9:04am (*Unit: miles per hour*)\n",
    "* ** max_wind_direction_9am:** wind gust direction averaged over a period from 8:55am to 9:10am (*Unit: degrees, with 0 being North and increasing clockwise*)\n",
    "* **max_wind_speed_9am:** wind gust speed averaged over a period from 8:55am to 9:04am (*Unit: miles per hour*)\n",
    "* **rain_accumulation_9am:** amount of rain accumulated in the 24 hours prior to 9am (*Unit: millimeters*)\n",
    "* **rain_duration_9am:** amount of time rain was recorded in the 24 hours prior to 9am (*Unit: seconds*)\n",
    "* **relative_humidity_9am:** relative humidity averaged over a period from 8:55am to 9:04am (*Unit: percent*)\n",
    "* **relative_humidity_3pm:** relative humidity averaged over a period from 2:55pm to 3:04pm (*Unit: percent *)\n"
   ]
  },
  {
   "cell_type": "code",
   "execution_count": 4,
   "metadata": {
    "collapsed": false
   },
   "outputs": [
    {
     "output_type": "execute_result",
     "data": {
      "text/plain": "      number  air_pressure_9am  air_temp_9am  avg_wind_direction_9am  \\\n0          0        918.060000     74.822000              271.100000   \n1          1        917.347688     71.403843              101.935179   \n2          2        923.040000     60.638000               51.000000   \n3          3        920.502751     70.138895              198.832133   \n4          4        921.160000     44.294000              277.800000   \n...      ...               ...           ...                     ...   \n1090    1090        918.900000     63.104000              192.900000   \n1091    1091        918.710000     49.568000              241.600000   \n1092    1092        916.600000     71.096000              189.300000   \n1093    1093        912.600000     58.406000              172.700000   \n1094    1094        921.530000     77.702000               97.100000   \n\n      avg_wind_speed_9am  max_wind_direction_9am  max_wind_speed_9am  \\\n0               2.080354              295.400000            2.863283   \n1               2.443009              140.471548            3.533324   \n2              17.067852               63.700000           22.100967   \n3               4.337363              211.203341            5.190045   \n4               1.856660              136.500000            2.863283   \n...                  ...                     ...                 ...   \n1090            3.869906              207.300000            5.212070   \n1091            1.811921              227.400000            2.371156   \n1092            3.064608              200.800000            3.892276   \n1093            3.825167              189.100000            4.764682   \n1094            3.265932              125.900000            4.451511   \n\n      rain_accumulation_9am  rain_duration_9am  relative_humidity_9am  \\\n0                       0.0                0.0              42.420000   \n1                       0.0                0.0              24.328697   \n2                       0.0               20.0               8.900000   \n3                       0.0                0.0              12.189102   \n4                       8.9            14730.0              92.410000   \n...                     ...                ...                    ...   \n1090                    0.0                0.0              26.020000   \n1091                    0.0                0.0              90.350000   \n1092                    0.0                0.0              45.590000   \n1093                    0.0                0.0              64.840000   \n1094                    0.0                0.0              14.560000   \n\n      relative_humidity_3pm  \n0                 36.160000  \n1                 19.426597  \n2                 14.460000  \n3                 12.742547  \n4                 76.740000  \n...                     ...  \n1090              38.180000  \n1091              73.340000  \n1092              52.310000  \n1093              58.280000  \n1094              15.100000  \n\n[1095 rows x 11 columns]",
      "text/html": "<div>\n<style scoped>\n    .dataframe tbody tr th:only-of-type {\n        vertical-align: middle;\n    }\n\n    .dataframe tbody tr th {\n        vertical-align: top;\n    }\n\n    .dataframe thead th {\n        text-align: right;\n    }\n</style>\n<table border=\"1\" class=\"dataframe\">\n  <thead>\n    <tr style=\"text-align: right;\">\n      <th></th>\n      <th>number</th>\n      <th>air_pressure_9am</th>\n      <th>air_temp_9am</th>\n      <th>avg_wind_direction_9am</th>\n      <th>avg_wind_speed_9am</th>\n      <th>max_wind_direction_9am</th>\n      <th>max_wind_speed_9am</th>\n      <th>rain_accumulation_9am</th>\n      <th>rain_duration_9am</th>\n      <th>relative_humidity_9am</th>\n      <th>relative_humidity_3pm</th>\n    </tr>\n  </thead>\n  <tbody>\n    <tr>\n      <th>0</th>\n      <td>0</td>\n      <td>918.060000</td>\n      <td>74.822000</td>\n      <td>271.100000</td>\n      <td>2.080354</td>\n      <td>295.400000</td>\n      <td>2.863283</td>\n      <td>0.0</td>\n      <td>0.0</td>\n      <td>42.420000</td>\n      <td>36.160000</td>\n    </tr>\n    <tr>\n      <th>1</th>\n      <td>1</td>\n      <td>917.347688</td>\n      <td>71.403843</td>\n      <td>101.935179</td>\n      <td>2.443009</td>\n      <td>140.471548</td>\n      <td>3.533324</td>\n      <td>0.0</td>\n      <td>0.0</td>\n      <td>24.328697</td>\n      <td>19.426597</td>\n    </tr>\n    <tr>\n      <th>2</th>\n      <td>2</td>\n      <td>923.040000</td>\n      <td>60.638000</td>\n      <td>51.000000</td>\n      <td>17.067852</td>\n      <td>63.700000</td>\n      <td>22.100967</td>\n      <td>0.0</td>\n      <td>20.0</td>\n      <td>8.900000</td>\n      <td>14.460000</td>\n    </tr>\n    <tr>\n      <th>3</th>\n      <td>3</td>\n      <td>920.502751</td>\n      <td>70.138895</td>\n      <td>198.832133</td>\n      <td>4.337363</td>\n      <td>211.203341</td>\n      <td>5.190045</td>\n      <td>0.0</td>\n      <td>0.0</td>\n      <td>12.189102</td>\n      <td>12.742547</td>\n    </tr>\n    <tr>\n      <th>4</th>\n      <td>4</td>\n      <td>921.160000</td>\n      <td>44.294000</td>\n      <td>277.800000</td>\n      <td>1.856660</td>\n      <td>136.500000</td>\n      <td>2.863283</td>\n      <td>8.9</td>\n      <td>14730.0</td>\n      <td>92.410000</td>\n      <td>76.740000</td>\n    </tr>\n    <tr>\n      <th>...</th>\n      <td>...</td>\n      <td>...</td>\n      <td>...</td>\n      <td>...</td>\n      <td>...</td>\n      <td>...</td>\n      <td>...</td>\n      <td>...</td>\n      <td>...</td>\n      <td>...</td>\n      <td>...</td>\n    </tr>\n    <tr>\n      <th>1090</th>\n      <td>1090</td>\n      <td>918.900000</td>\n      <td>63.104000</td>\n      <td>192.900000</td>\n      <td>3.869906</td>\n      <td>207.300000</td>\n      <td>5.212070</td>\n      <td>0.0</td>\n      <td>0.0</td>\n      <td>26.020000</td>\n      <td>38.180000</td>\n    </tr>\n    <tr>\n      <th>1091</th>\n      <td>1091</td>\n      <td>918.710000</td>\n      <td>49.568000</td>\n      <td>241.600000</td>\n      <td>1.811921</td>\n      <td>227.400000</td>\n      <td>2.371156</td>\n      <td>0.0</td>\n      <td>0.0</td>\n      <td>90.350000</td>\n      <td>73.340000</td>\n    </tr>\n    <tr>\n      <th>1092</th>\n      <td>1092</td>\n      <td>916.600000</td>\n      <td>71.096000</td>\n      <td>189.300000</td>\n      <td>3.064608</td>\n      <td>200.800000</td>\n      <td>3.892276</td>\n      <td>0.0</td>\n      <td>0.0</td>\n      <td>45.590000</td>\n      <td>52.310000</td>\n    </tr>\n    <tr>\n      <th>1093</th>\n      <td>1093</td>\n      <td>912.600000</td>\n      <td>58.406000</td>\n      <td>172.700000</td>\n      <td>3.825167</td>\n      <td>189.100000</td>\n      <td>4.764682</td>\n      <td>0.0</td>\n      <td>0.0</td>\n      <td>64.840000</td>\n      <td>58.280000</td>\n    </tr>\n    <tr>\n      <th>1094</th>\n      <td>1094</td>\n      <td>921.530000</td>\n      <td>77.702000</td>\n      <td>97.100000</td>\n      <td>3.265932</td>\n      <td>125.900000</td>\n      <td>4.451511</td>\n      <td>0.0</td>\n      <td>0.0</td>\n      <td>14.560000</td>\n      <td>15.100000</td>\n    </tr>\n  </tbody>\n</table>\n<p>1095 rows × 11 columns</p>\n</div>"
     },
     "metadata": {},
     "execution_count": 4
    }
   ],
   "source": [
    "data"
   ]
  },
  {
   "cell_type": "code",
   "execution_count": 5,
   "metadata": {
    "collapsed": false
   },
   "outputs": [
    {
     "output_type": "execute_result",
     "data": {
      "text/plain": "      number  air_pressure_9am  air_temp_9am  avg_wind_direction_9am  \\\n16        16        917.890000           NaN              169.200000   \n111      111        915.290000     58.820000              182.600000   \n177      177        915.900000           NaN              183.300000   \n262      262        923.596607     58.380598               47.737753   \n277      277        920.480000     62.600000              194.400000   \n334      334        916.230000     75.740000              149.100000   \n358      358        917.440000     58.514000               55.100000   \n361      361        920.444946     65.801845               49.823346   \n381      381        918.480000     66.542000               90.900000   \n409      409               NaN     67.853833               65.880616   \n517      517        920.570000     53.600000              100.100000   \n519      519        916.250000     55.670000              176.400000   \n546      546               NaN     42.746000              251.100000   \n620      620        921.200000     56.786000              192.300000   \n625      625        912.400000     50.774000              171.600000   \n656      656        920.830000     66.344000                     NaN   \n670      670        910.920000     48.362000              156.500000   \n672      672        922.448945     72.863773                     NaN   \n705      705        911.900000     59.072000              199.800000   \n731      731        922.970166     51.391847               33.810942   \n737      737        917.895130     76.804690              104.771020   \n788      788        917.923442     73.249717               42.101739   \n840      840        918.043767           NaN              181.774042   \n848      848        915.250000     37.562000              246.500000   \n861      861        919.065408           NaN              172.303728   \n869      869               NaN     45.104000              259.000000   \n998      998        914.140000     71.240000                     NaN   \n1031    1031        922.669195           NaN               47.946284   \n1035    1035        919.670000     77.576000              171.800000   \n1063    1063        917.300185     65.790001                     NaN   \n1066    1066        919.564869     73.726732               68.704694   \n\n      avg_wind_speed_9am  max_wind_direction_9am  max_wind_speed_9am  \\\n16              2.192201              196.800000            2.930391   \n111            15.613841              189.000000                 NaN   \n177             4.719943              189.900000            5.346287   \n262            10.636273               67.145843           13.671423   \n277             2.751436                     NaN            3.869906   \n334             2.751436              187.500000            4.183078   \n358            10.021491                     NaN           12.705819   \n361            21.520177               61.886944           25.549112   \n381             3.467257               89.400000            4.406772   \n409             4.328594               78.570923            5.216734   \n517             4.697574                     NaN            6.285801   \n519             6.666081              188.200000                 NaN   \n546            12.929513              274.400000           17.604718   \n620             9.551734              201.400000           11.005745   \n625                  NaN              181.400000            4.831790   \n656            15.457255              189.400000           16.486248   \n670                  NaN              177.500000           16.128337   \n672             3.682370              214.196160            4.849450   \n705             1.275056              239.500000            1.834291   \n731                  NaN               59.290089           11.111555   \n737             1.632705               97.178763                 NaN   \n788             4.132698               64.284969            5.345258   \n840             0.964376              185.618601            1.570007   \n848            11.587349              258.700000                 NaN   \n861             2.639600              193.058141            3.326949   \n869             3.265932              275.000000            4.026492   \n998             1.722444              232.900000            2.326418   \n1031            7.969686               65.770066           10.262337   \n1035            6.554234              191.000000            8.164831   \n1063            1.879553              222.498226            2.692862   \n1066            3.551777              102.571616            4.861315   \n\n      rain_accumulation_9am  rain_duration_9am  relative_humidity_9am  \\\n16                    0.000           0.000000              48.990000   \n111                   0.000           0.000000              21.500000   \n177                   0.000           0.000000              29.260000   \n262                   0.000                NaN              17.990876   \n277                   0.000           0.000000              52.580000   \n334                     NaN        1480.000000              31.880000   \n358                   0.000           0.000000              13.880000   \n361                     NaN          40.364018              12.278715   \n381                     NaN           0.000000              20.640000   \n409                   0.000           0.000000              18.487385   \n517                   4.712       14842.000000              79.880000   \n519                   0.000           0.000000              72.550000   \n546                  14.627        7825.000000              87.870000   \n620                     NaN           0.000000              59.790000   \n625                   0.000           0.000000              86.840000   \n656                   0.000           0.000000              23.770000   \n670                   4.970       10560.000000              80.560000   \n672                   0.000           0.000000              16.753670   \n705                     NaN           0.000000              77.630000   \n731                   0.000           4.735034              34.807753   \n737                   0.000           0.000000              13.771311   \n788                   0.000                NaN               6.939692   \n840                   0.000           0.000000              11.911222   \n848                   3.171        2891.000000              91.000000   \n861                   0.000           0.000000              12.497839   \n869                   0.000          80.000000              85.270000   \n998                   0.000           0.000000              24.200000   \n1031                  0.000           0.000000              18.920805   \n1035                  0.000                NaN              56.860000   \n1063                  0.000           0.000000              14.972668   \n1066                    NaN           0.000000              11.657314   \n\n      relative_humidity_3pm  \n16                51.190000  \n111               29.690000  \n177               46.500000  \n262               16.461685  \n277               54.030000  \n334               32.900000  \n358               25.930000  \n361                7.618649  \n381               14.350000  \n409               20.356594  \n517               84.530000  \n519               74.390000  \n546               70.770000  \n620               77.750000  \n625               64.740000  \n656               51.630000  \n670               88.220000  \n672               17.804720  \n705               59.130000  \n731               18.418179  \n737               16.792455  \n788               18.793825  \n840               18.154358  \n848               90.780000  \n861               13.438518  \n869               90.260000  \n998               41.380000  \n1031              19.641841  \n1035              50.650000  \n1063              20.966267  \n1066              17.331823  ",
      "text/html": "<div>\n<style scoped>\n    .dataframe tbody tr th:only-of-type {\n        vertical-align: middle;\n    }\n\n    .dataframe tbody tr th {\n        vertical-align: top;\n    }\n\n    .dataframe thead th {\n        text-align: right;\n    }\n</style>\n<table border=\"1\" class=\"dataframe\">\n  <thead>\n    <tr style=\"text-align: right;\">\n      <th></th>\n      <th>number</th>\n      <th>air_pressure_9am</th>\n      <th>air_temp_9am</th>\n      <th>avg_wind_direction_9am</th>\n      <th>avg_wind_speed_9am</th>\n      <th>max_wind_direction_9am</th>\n      <th>max_wind_speed_9am</th>\n      <th>rain_accumulation_9am</th>\n      <th>rain_duration_9am</th>\n      <th>relative_humidity_9am</th>\n      <th>relative_humidity_3pm</th>\n    </tr>\n  </thead>\n  <tbody>\n    <tr>\n      <th>16</th>\n      <td>16</td>\n      <td>917.890000</td>\n      <td>NaN</td>\n      <td>169.200000</td>\n      <td>2.192201</td>\n      <td>196.800000</td>\n      <td>2.930391</td>\n      <td>0.000</td>\n      <td>0.000000</td>\n      <td>48.990000</td>\n      <td>51.190000</td>\n    </tr>\n    <tr>\n      <th>111</th>\n      <td>111</td>\n      <td>915.290000</td>\n      <td>58.820000</td>\n      <td>182.600000</td>\n      <td>15.613841</td>\n      <td>189.000000</td>\n      <td>NaN</td>\n      <td>0.000</td>\n      <td>0.000000</td>\n      <td>21.500000</td>\n      <td>29.690000</td>\n    </tr>\n    <tr>\n      <th>177</th>\n      <td>177</td>\n      <td>915.900000</td>\n      <td>NaN</td>\n      <td>183.300000</td>\n      <td>4.719943</td>\n      <td>189.900000</td>\n      <td>5.346287</td>\n      <td>0.000</td>\n      <td>0.000000</td>\n      <td>29.260000</td>\n      <td>46.500000</td>\n    </tr>\n    <tr>\n      <th>262</th>\n      <td>262</td>\n      <td>923.596607</td>\n      <td>58.380598</td>\n      <td>47.737753</td>\n      <td>10.636273</td>\n      <td>67.145843</td>\n      <td>13.671423</td>\n      <td>0.000</td>\n      <td>NaN</td>\n      <td>17.990876</td>\n      <td>16.461685</td>\n    </tr>\n    <tr>\n      <th>277</th>\n      <td>277</td>\n      <td>920.480000</td>\n      <td>62.600000</td>\n      <td>194.400000</td>\n      <td>2.751436</td>\n      <td>NaN</td>\n      <td>3.869906</td>\n      <td>0.000</td>\n      <td>0.000000</td>\n      <td>52.580000</td>\n      <td>54.030000</td>\n    </tr>\n    <tr>\n      <th>334</th>\n      <td>334</td>\n      <td>916.230000</td>\n      <td>75.740000</td>\n      <td>149.100000</td>\n      <td>2.751436</td>\n      <td>187.500000</td>\n      <td>4.183078</td>\n      <td>NaN</td>\n      <td>1480.000000</td>\n      <td>31.880000</td>\n      <td>32.900000</td>\n    </tr>\n    <tr>\n      <th>358</th>\n      <td>358</td>\n      <td>917.440000</td>\n      <td>58.514000</td>\n      <td>55.100000</td>\n      <td>10.021491</td>\n      <td>NaN</td>\n      <td>12.705819</td>\n      <td>0.000</td>\n      <td>0.000000</td>\n      <td>13.880000</td>\n      <td>25.930000</td>\n    </tr>\n    <tr>\n      <th>361</th>\n      <td>361</td>\n      <td>920.444946</td>\n      <td>65.801845</td>\n      <td>49.823346</td>\n      <td>21.520177</td>\n      <td>61.886944</td>\n      <td>25.549112</td>\n      <td>NaN</td>\n      <td>40.364018</td>\n      <td>12.278715</td>\n      <td>7.618649</td>\n    </tr>\n    <tr>\n      <th>381</th>\n      <td>381</td>\n      <td>918.480000</td>\n      <td>66.542000</td>\n      <td>90.900000</td>\n      <td>3.467257</td>\n      <td>89.400000</td>\n      <td>4.406772</td>\n      <td>NaN</td>\n      <td>0.000000</td>\n      <td>20.640000</td>\n      <td>14.350000</td>\n    </tr>\n    <tr>\n      <th>409</th>\n      <td>409</td>\n      <td>NaN</td>\n      <td>67.853833</td>\n      <td>65.880616</td>\n      <td>4.328594</td>\n      <td>78.570923</td>\n      <td>5.216734</td>\n      <td>0.000</td>\n      <td>0.000000</td>\n      <td>18.487385</td>\n      <td>20.356594</td>\n    </tr>\n    <tr>\n      <th>517</th>\n      <td>517</td>\n      <td>920.570000</td>\n      <td>53.600000</td>\n      <td>100.100000</td>\n      <td>4.697574</td>\n      <td>NaN</td>\n      <td>6.285801</td>\n      <td>4.712</td>\n      <td>14842.000000</td>\n      <td>79.880000</td>\n      <td>84.530000</td>\n    </tr>\n    <tr>\n      <th>519</th>\n      <td>519</td>\n      <td>916.250000</td>\n      <td>55.670000</td>\n      <td>176.400000</td>\n      <td>6.666081</td>\n      <td>188.200000</td>\n      <td>NaN</td>\n      <td>0.000</td>\n      <td>0.000000</td>\n      <td>72.550000</td>\n      <td>74.390000</td>\n    </tr>\n    <tr>\n      <th>546</th>\n      <td>546</td>\n      <td>NaN</td>\n      <td>42.746000</td>\n      <td>251.100000</td>\n      <td>12.929513</td>\n      <td>274.400000</td>\n      <td>17.604718</td>\n      <td>14.627</td>\n      <td>7825.000000</td>\n      <td>87.870000</td>\n      <td>70.770000</td>\n    </tr>\n    <tr>\n      <th>620</th>\n      <td>620</td>\n      <td>921.200000</td>\n      <td>56.786000</td>\n      <td>192.300000</td>\n      <td>9.551734</td>\n      <td>201.400000</td>\n      <td>11.005745</td>\n      <td>NaN</td>\n      <td>0.000000</td>\n      <td>59.790000</td>\n      <td>77.750000</td>\n    </tr>\n    <tr>\n      <th>625</th>\n      <td>625</td>\n      <td>912.400000</td>\n      <td>50.774000</td>\n      <td>171.600000</td>\n      <td>NaN</td>\n      <td>181.400000</td>\n      <td>4.831790</td>\n      <td>0.000</td>\n      <td>0.000000</td>\n      <td>86.840000</td>\n      <td>64.740000</td>\n    </tr>\n    <tr>\n      <th>656</th>\n      <td>656</td>\n      <td>920.830000</td>\n      <td>66.344000</td>\n      <td>NaN</td>\n      <td>15.457255</td>\n      <td>189.400000</td>\n      <td>16.486248</td>\n      <td>0.000</td>\n      <td>0.000000</td>\n      <td>23.770000</td>\n      <td>51.630000</td>\n    </tr>\n    <tr>\n      <th>670</th>\n      <td>670</td>\n      <td>910.920000</td>\n      <td>48.362000</td>\n      <td>156.500000</td>\n      <td>NaN</td>\n      <td>177.500000</td>\n      <td>16.128337</td>\n      <td>4.970</td>\n      <td>10560.000000</td>\n      <td>80.560000</td>\n      <td>88.220000</td>\n    </tr>\n    <tr>\n      <th>672</th>\n      <td>672</td>\n      <td>922.448945</td>\n      <td>72.863773</td>\n      <td>NaN</td>\n      <td>3.682370</td>\n      <td>214.196160</td>\n      <td>4.849450</td>\n      <td>0.000</td>\n      <td>0.000000</td>\n      <td>16.753670</td>\n      <td>17.804720</td>\n    </tr>\n    <tr>\n      <th>705</th>\n      <td>705</td>\n      <td>911.900000</td>\n      <td>59.072000</td>\n      <td>199.800000</td>\n      <td>1.275056</td>\n      <td>239.500000</td>\n      <td>1.834291</td>\n      <td>NaN</td>\n      <td>0.000000</td>\n      <td>77.630000</td>\n      <td>59.130000</td>\n    </tr>\n    <tr>\n      <th>731</th>\n      <td>731</td>\n      <td>922.970166</td>\n      <td>51.391847</td>\n      <td>33.810942</td>\n      <td>NaN</td>\n      <td>59.290089</td>\n      <td>11.111555</td>\n      <td>0.000</td>\n      <td>4.735034</td>\n      <td>34.807753</td>\n      <td>18.418179</td>\n    </tr>\n    <tr>\n      <th>737</th>\n      <td>737</td>\n      <td>917.895130</td>\n      <td>76.804690</td>\n      <td>104.771020</td>\n      <td>1.632705</td>\n      <td>97.178763</td>\n      <td>NaN</td>\n      <td>0.000</td>\n      <td>0.000000</td>\n      <td>13.771311</td>\n      <td>16.792455</td>\n    </tr>\n    <tr>\n      <th>788</th>\n      <td>788</td>\n      <td>917.923442</td>\n      <td>73.249717</td>\n      <td>42.101739</td>\n      <td>4.132698</td>\n      <td>64.284969</td>\n      <td>5.345258</td>\n      <td>0.000</td>\n      <td>NaN</td>\n      <td>6.939692</td>\n      <td>18.793825</td>\n    </tr>\n    <tr>\n      <th>840</th>\n      <td>840</td>\n      <td>918.043767</td>\n      <td>NaN</td>\n      <td>181.774042</td>\n      <td>0.964376</td>\n      <td>185.618601</td>\n      <td>1.570007</td>\n      <td>0.000</td>\n      <td>0.000000</td>\n      <td>11.911222</td>\n      <td>18.154358</td>\n    </tr>\n    <tr>\n      <th>848</th>\n      <td>848</td>\n      <td>915.250000</td>\n      <td>37.562000</td>\n      <td>246.500000</td>\n      <td>11.587349</td>\n      <td>258.700000</td>\n      <td>NaN</td>\n      <td>3.171</td>\n      <td>2891.000000</td>\n      <td>91.000000</td>\n      <td>90.780000</td>\n    </tr>\n    <tr>\n      <th>861</th>\n      <td>861</td>\n      <td>919.065408</td>\n      <td>NaN</td>\n      <td>172.303728</td>\n      <td>2.639600</td>\n      <td>193.058141</td>\n      <td>3.326949</td>\n      <td>0.000</td>\n      <td>0.000000</td>\n      <td>12.497839</td>\n      <td>13.438518</td>\n    </tr>\n    <tr>\n      <th>869</th>\n      <td>869</td>\n      <td>NaN</td>\n      <td>45.104000</td>\n      <td>259.000000</td>\n      <td>3.265932</td>\n      <td>275.000000</td>\n      <td>4.026492</td>\n      <td>0.000</td>\n      <td>80.000000</td>\n      <td>85.270000</td>\n      <td>90.260000</td>\n    </tr>\n    <tr>\n      <th>998</th>\n      <td>998</td>\n      <td>914.140000</td>\n      <td>71.240000</td>\n      <td>NaN</td>\n      <td>1.722444</td>\n      <td>232.900000</td>\n      <td>2.326418</td>\n      <td>0.000</td>\n      <td>0.000000</td>\n      <td>24.200000</td>\n      <td>41.380000</td>\n    </tr>\n    <tr>\n      <th>1031</th>\n      <td>1031</td>\n      <td>922.669195</td>\n      <td>NaN</td>\n      <td>47.946284</td>\n      <td>7.969686</td>\n      <td>65.770066</td>\n      <td>10.262337</td>\n      <td>0.000</td>\n      <td>0.000000</td>\n      <td>18.920805</td>\n      <td>19.641841</td>\n    </tr>\n    <tr>\n      <th>1035</th>\n      <td>1035</td>\n      <td>919.670000</td>\n      <td>77.576000</td>\n      <td>171.800000</td>\n      <td>6.554234</td>\n      <td>191.000000</td>\n      <td>8.164831</td>\n      <td>0.000</td>\n      <td>NaN</td>\n      <td>56.860000</td>\n      <td>50.650000</td>\n    </tr>\n    <tr>\n      <th>1063</th>\n      <td>1063</td>\n      <td>917.300185</td>\n      <td>65.790001</td>\n      <td>NaN</td>\n      <td>1.879553</td>\n      <td>222.498226</td>\n      <td>2.692862</td>\n      <td>0.000</td>\n      <td>0.000000</td>\n      <td>14.972668</td>\n      <td>20.966267</td>\n    </tr>\n    <tr>\n      <th>1066</th>\n      <td>1066</td>\n      <td>919.564869</td>\n      <td>73.726732</td>\n      <td>68.704694</td>\n      <td>3.551777</td>\n      <td>102.571616</td>\n      <td>4.861315</td>\n      <td>NaN</td>\n      <td>0.000000</td>\n      <td>11.657314</td>\n      <td>17.331823</td>\n    </tr>\n  </tbody>\n</table>\n</div>"
     },
     "metadata": {},
     "execution_count": 5
    }
   ],
   "source": [
    "data[data.isnull().any(axis=1)]"
   ]
  },
  {
   "cell_type": "markdown",
   "metadata": {},
   "source": [
    "<p style=\"font-family: Arial; font-size:1.75em;color:purple; font-style:bold\"><br>\n",
    "\n",
    "Data Cleaning Steps<br><br></p>\n",
    "\n",
    "We will not need to number for each row so we can clean it."
   ]
  },
  {
   "cell_type": "code",
   "execution_count": 6,
   "metadata": {
    "collapsed": false
   },
   "outputs": [],
   "source": [
    "del data['number']"
   ]
  },
  {
   "cell_type": "markdown",
   "metadata": {},
   "source": [
    "Now let's drop null values using the *pandas dropna* function."
   ]
  },
  {
   "cell_type": "code",
   "execution_count": 7,
   "metadata": {
    "collapsed": false
   },
   "outputs": [
    {
     "output_type": "stream",
     "name": "stdout",
     "text": "1095\n"
    }
   ],
   "source": [
    "before_rows = data.shape[0]\n",
    "print(before_rows)"
   ]
  },
  {
   "cell_type": "code",
   "execution_count": 8,
   "metadata": {
    "collapsed": true
   },
   "outputs": [],
   "source": [
    "data = data.dropna()"
   ]
  },
  {
   "cell_type": "code",
   "execution_count": 9,
   "metadata": {
    "collapsed": false
   },
   "outputs": [
    {
     "output_type": "stream",
     "name": "stdout",
     "text": "1064\n"
    }
   ],
   "source": [
    "after_rows = data.shape[0]\n",
    "print(after_rows)"
   ]
  },
  {
   "cell_type": "markdown",
   "metadata": {},
   "source": [
    "<p style=\"font-family: Arial; font-size:1.75em;color:purple; font-style:bold\"><br>\n",
    "\n",
    "How many rows dropped due to cleaning?<br><br></p>\n"
   ]
  },
  {
   "cell_type": "code",
   "execution_count": 10,
   "metadata": {
    "collapsed": false
   },
   "outputs": [
    {
     "output_type": "execute_result",
     "data": {
      "text/plain": "31"
     },
     "metadata": {},
     "execution_count": 10
    }
   ],
   "source": [
    "before_rows - after_rows"
   ]
  },
  {
   "cell_type": "markdown",
   "metadata": {},
   "source": [
    "<p style=\"font-family: Arial; font-size:1.75em;color:purple; font-style:bold\">\n",
    "Convert to a Classification Task <br><br></p>\n",
    "Binarize the max_wind_speed to 0 or 1.<br>\n"
   ]
  },
  {
   "cell_type": "code",
   "execution_count": 37,
   "metadata": {},
   "outputs": [
    {
     "output_type": "execute_result",
     "data": {
      "text/plain": "6.999713658875691"
     },
     "metadata": {},
     "execution_count": 37
    }
   ],
   "source": [
    "data['max_wind_speed_9am'].mean()"
   ]
  },
  {
   "cell_type": "code",
   "execution_count": 40,
   "metadata": {
    "collapsed": false
   },
   "outputs": [
    {
     "output_type": "stream",
     "name": "stdout",
     "text": "0       0\n1       0\n2       1\n3       1\n4       0\n       ..\n1090    1\n1091    0\n1092    0\n1093    1\n1094    1\nName: max_wind_speed_label, Length: 1064, dtype: int64\n"
    }
   ],
   "source": [
    "clean_data = data.copy()\n",
    "clean_data['max_wind_speed_label'] = (clean_data['max_wind_speed_9am'] > 3.99)*1\n",
    "print(clean_data['max_wind_speed_label'])"
   ]
  },
  {
   "cell_type": "markdown",
   "metadata": {},
   "source": [
    "<p style=\"font-family: Arial; font-size:1.75em;color:purple; font-style:bold\"><br>\n",
    "\n",
    "Target is stored in 'y'.\n",
    "<br><br></p>\n"
   ]
  },
  {
   "cell_type": "code",
   "execution_count": 50,
   "metadata": {
    "collapsed": false
   },
   "outputs": [
    {
     "output_type": "execute_result",
     "data": {
      "text/plain": "      max_wind_speed_label\n0                        0\n1                        0\n2                        1\n3                        1\n4                        0\n...                    ...\n1090                     1\n1091                     0\n1092                     0\n1093                     1\n1094                     1\n\n[1064 rows x 1 columns]",
      "text/html": "<div>\n<style scoped>\n    .dataframe tbody tr th:only-of-type {\n        vertical-align: middle;\n    }\n\n    .dataframe tbody tr th {\n        vertical-align: top;\n    }\n\n    .dataframe thead th {\n        text-align: right;\n    }\n</style>\n<table border=\"1\" class=\"dataframe\">\n  <thead>\n    <tr style=\"text-align: right;\">\n      <th></th>\n      <th>max_wind_speed_label</th>\n    </tr>\n  </thead>\n  <tbody>\n    <tr>\n      <th>0</th>\n      <td>0</td>\n    </tr>\n    <tr>\n      <th>1</th>\n      <td>0</td>\n    </tr>\n    <tr>\n      <th>2</th>\n      <td>1</td>\n    </tr>\n    <tr>\n      <th>3</th>\n      <td>1</td>\n    </tr>\n    <tr>\n      <th>4</th>\n      <td>0</td>\n    </tr>\n    <tr>\n      <th>...</th>\n      <td>...</td>\n    </tr>\n    <tr>\n      <th>1090</th>\n      <td>1</td>\n    </tr>\n    <tr>\n      <th>1091</th>\n      <td>0</td>\n    </tr>\n    <tr>\n      <th>1092</th>\n      <td>0</td>\n    </tr>\n    <tr>\n      <th>1093</th>\n      <td>1</td>\n    </tr>\n    <tr>\n      <th>1094</th>\n      <td>1</td>\n    </tr>\n  </tbody>\n</table>\n<p>1064 rows × 1 columns</p>\n</div>"
     },
     "metadata": {},
     "execution_count": 50
    }
   ],
   "source": [
    "y=clean_data[['max_wind_speed_label']].copy()\n",
    "y\n",
    ""
   ]
  },
  {
   "cell_type": "code",
   "execution_count": 42,
   "metadata": {
    "collapsed": false
   },
   "outputs": [
    {
     "output_type": "execute_result",
     "data": {
      "text/plain": "0     2.863283\n1     3.533324\n2    22.100967\n3     5.190045\n4     2.863283\nName: max_wind_speed_9am, dtype: float64"
     },
     "metadata": {},
     "execution_count": 42
    }
   ],
   "source": [
    "clean_data['max_wind_speed_9am'].head()"
   ]
  },
  {
   "cell_type": "code",
   "execution_count": 43,
   "metadata": {
    "collapsed": false
   },
   "outputs": [
    {
     "output_type": "execute_result",
     "data": {
      "text/plain": "   max_wind_speed_label\n0                     0\n1                     0\n2                     1\n3                     1\n4                     0",
      "text/html": "<div>\n<style scoped>\n    .dataframe tbody tr th:only-of-type {\n        vertical-align: middle;\n    }\n\n    .dataframe tbody tr th {\n        vertical-align: top;\n    }\n\n    .dataframe thead th {\n        text-align: right;\n    }\n</style>\n<table border=\"1\" class=\"dataframe\">\n  <thead>\n    <tr style=\"text-align: right;\">\n      <th></th>\n      <th>max_wind_speed_label</th>\n    </tr>\n  </thead>\n  <tbody>\n    <tr>\n      <th>0</th>\n      <td>0</td>\n    </tr>\n    <tr>\n      <th>1</th>\n      <td>0</td>\n    </tr>\n    <tr>\n      <th>2</th>\n      <td>1</td>\n    </tr>\n    <tr>\n      <th>3</th>\n      <td>1</td>\n    </tr>\n    <tr>\n      <th>4</th>\n      <td>0</td>\n    </tr>\n  </tbody>\n</table>\n</div>"
     },
     "metadata": {},
     "execution_count": 43
    }
   ],
   "source": [
    "y.head()"
   ]
  },
  {
   "cell_type": "markdown",
   "metadata": {},
   "source": [
    "<p style=\"font-family: Arial; font-size:1.75em;color:purple; font-style:bold\"><br>\n",
    "\n",
    "Use 9am Sensor Signals as Features to Predict max_wind_speed \n",
    "<br><br></p>\n"
   ]
  },
  {
   "cell_type": "code",
   "execution_count": 60,
   "metadata": {
    "collapsed": true
   },
   "outputs": [],
   "source": [
    "morning_features = ['air_pressure_9am','air_temp_9am','avg_wind_direction_9am','avg_wind_speed_9am',\n",
    "        'max_wind_direction_9am','rain_accumulation_9am',\n",
    "        'rain_duration_9am']"
   ]
  },
  {
   "cell_type": "code",
   "execution_count": 61,
   "metadata": {},
   "outputs": [
    {
     "output_type": "execute_result",
     "data": {
      "text/plain": "   air_pressure_9am  air_temp_9am  avg_wind_direction_9am  avg_wind_speed_9am  \\\n0        918.060000     74.822000              271.100000            2.080354   \n1        917.347688     71.403843              101.935179            2.443009   \n2        923.040000     60.638000               51.000000           17.067852   \n3        920.502751     70.138895              198.832133            4.337363   \n4        921.160000     44.294000              277.800000            1.856660   \n\n   max_wind_direction_9am  max_wind_speed_9am  rain_accumulation_9am  \\\n0              295.400000            2.863283                    0.0   \n1              140.471548            3.533324                    0.0   \n2               63.700000           22.100967                    0.0   \n3              211.203341            5.190045                    0.0   \n4              136.500000            2.863283                    8.9   \n\n   rain_duration_9am  relative_humidity_9am  relative_humidity_3pm  \n0                0.0              42.420000              36.160000  \n1                0.0              24.328697              19.426597  \n2               20.0               8.900000              14.460000  \n3                0.0              12.189102              12.742547  \n4            14730.0              92.410000              76.740000  ",
      "text/html": "<div>\n<style scoped>\n    .dataframe tbody tr th:only-of-type {\n        vertical-align: middle;\n    }\n\n    .dataframe tbody tr th {\n        vertical-align: top;\n    }\n\n    .dataframe thead th {\n        text-align: right;\n    }\n</style>\n<table border=\"1\" class=\"dataframe\">\n  <thead>\n    <tr style=\"text-align: right;\">\n      <th></th>\n      <th>air_pressure_9am</th>\n      <th>air_temp_9am</th>\n      <th>avg_wind_direction_9am</th>\n      <th>avg_wind_speed_9am</th>\n      <th>max_wind_direction_9am</th>\n      <th>max_wind_speed_9am</th>\n      <th>rain_accumulation_9am</th>\n      <th>rain_duration_9am</th>\n      <th>relative_humidity_9am</th>\n      <th>relative_humidity_3pm</th>\n    </tr>\n  </thead>\n  <tbody>\n    <tr>\n      <th>0</th>\n      <td>918.060000</td>\n      <td>74.822000</td>\n      <td>271.100000</td>\n      <td>2.080354</td>\n      <td>295.400000</td>\n      <td>2.863283</td>\n      <td>0.0</td>\n      <td>0.0</td>\n      <td>42.420000</td>\n      <td>36.160000</td>\n    </tr>\n    <tr>\n      <th>1</th>\n      <td>917.347688</td>\n      <td>71.403843</td>\n      <td>101.935179</td>\n      <td>2.443009</td>\n      <td>140.471548</td>\n      <td>3.533324</td>\n      <td>0.0</td>\n      <td>0.0</td>\n      <td>24.328697</td>\n      <td>19.426597</td>\n    </tr>\n    <tr>\n      <th>2</th>\n      <td>923.040000</td>\n      <td>60.638000</td>\n      <td>51.000000</td>\n      <td>17.067852</td>\n      <td>63.700000</td>\n      <td>22.100967</td>\n      <td>0.0</td>\n      <td>20.0</td>\n      <td>8.900000</td>\n      <td>14.460000</td>\n    </tr>\n    <tr>\n      <th>3</th>\n      <td>920.502751</td>\n      <td>70.138895</td>\n      <td>198.832133</td>\n      <td>4.337363</td>\n      <td>211.203341</td>\n      <td>5.190045</td>\n      <td>0.0</td>\n      <td>0.0</td>\n      <td>12.189102</td>\n      <td>12.742547</td>\n    </tr>\n    <tr>\n      <th>4</th>\n      <td>921.160000</td>\n      <td>44.294000</td>\n      <td>277.800000</td>\n      <td>1.856660</td>\n      <td>136.500000</td>\n      <td>2.863283</td>\n      <td>8.9</td>\n      <td>14730.0</td>\n      <td>92.410000</td>\n      <td>76.740000</td>\n    </tr>\n  </tbody>\n</table>\n</div>"
     },
     "metadata": {},
     "execution_count": 61
    }
   ],
   "source": [
    "data.head()"
   ]
  },
  {
   "cell_type": "code",
   "execution_count": 62,
   "metadata": {
    "collapsed": false
   },
   "outputs": [],
   "source": [
    "X = clean_data[morning_features].copy()"
   ]
  },
  {
   "cell_type": "code",
   "execution_count": 63,
   "metadata": {
    "collapsed": false
   },
   "outputs": [
    {
     "output_type": "execute_result",
     "data": {
      "text/plain": "Index(['air_pressure_9am', 'air_temp_9am', 'avg_wind_direction_9am',\n       'avg_wind_speed_9am', 'max_wind_direction_9am', 'rain_accumulation_9am',\n       'rain_duration_9am'],\n      dtype='object')"
     },
     "metadata": {},
     "execution_count": 63
    }
   ],
   "source": [
    "X.columns"
   ]
  },
  {
   "cell_type": "code",
   "execution_count": 64,
   "metadata": {
    "collapsed": false
   },
   "outputs": [
    {
     "output_type": "execute_result",
     "data": {
      "text/plain": "Index(['max_wind_speed_label'], dtype='object')"
     },
     "metadata": {},
     "execution_count": 64
    }
   ],
   "source": [
    "y.columns"
   ]
  },
  {
   "cell_type": "markdown",
   "metadata": {},
   "source": [
    "<p style=\"font-family: Arial; font-size:1.75em;color:purple; font-style:bold\"><br>\n",
    "\n",
    "Perform Test and Train split\n",
    "\n",
    "<br><br></p>\n",
    "\n"
   ]
  },
  {
   "cell_type": "markdown",
   "metadata": {},
   "source": [
    "## REMINDER: Training Phase\n",
    "\n",
    "In the **training phase**, the learning algorithm uses the training data to adjust the model’s parameters to minimize errors.  At the end of the training phase, you get the trained model.\n",
    "\n",
    "<img src=\"TrainingVSTesting.jpg\" align=\"middle\" style=\"width:550px;height:360px;\"/>\n",
    "\n",
    "<BR>\n",
    "In the **testing phase**, the trained model is applied to test data.  Test data is separate from the training data, and is previously unseen by the model.  The model is then evaluated on how it performs on the test data.  The goal in building a classifier model is to have the model perform well on training as well as test data.\n"
   ]
  },
  {
   "cell_type": "code",
   "execution_count": 65,
   "metadata": {
    "collapsed": true
   },
   "outputs": [],
   "source": [
    "X_train, X_test, y_train, y_test = train_test_split(X, y, test_size=0.33, random_state=324)"
   ]
  },
  {
   "cell_type": "code",
   "execution_count": 67,
   "metadata": {
    "collapsed": false
   },
   "outputs": [
    {
     "output_type": "execute_result",
     "data": {
      "text/plain": "       max_wind_speed_label\ncount            712.000000\nmean               0.632022\nstd                0.482594\nmin                0.000000\n25%                0.000000\n50%                1.000000\n75%                1.000000\nmax                1.000000",
      "text/html": "<div>\n<style scoped>\n    .dataframe tbody tr th:only-of-type {\n        vertical-align: middle;\n    }\n\n    .dataframe tbody tr th {\n        vertical-align: top;\n    }\n\n    .dataframe thead th {\n        text-align: right;\n    }\n</style>\n<table border=\"1\" class=\"dataframe\">\n  <thead>\n    <tr style=\"text-align: right;\">\n      <th></th>\n      <th>max_wind_speed_label</th>\n    </tr>\n  </thead>\n  <tbody>\n    <tr>\n      <th>count</th>\n      <td>712.000000</td>\n    </tr>\n    <tr>\n      <th>mean</th>\n      <td>0.632022</td>\n    </tr>\n    <tr>\n      <th>std</th>\n      <td>0.482594</td>\n    </tr>\n    <tr>\n      <th>min</th>\n      <td>0.000000</td>\n    </tr>\n    <tr>\n      <th>25%</th>\n      <td>0.000000</td>\n    </tr>\n    <tr>\n      <th>50%</th>\n      <td>1.000000</td>\n    </tr>\n    <tr>\n      <th>75%</th>\n      <td>1.000000</td>\n    </tr>\n    <tr>\n      <th>max</th>\n      <td>1.000000</td>\n    </tr>\n  </tbody>\n</table>\n</div>"
     },
     "metadata": {},
     "execution_count": 67
    }
   ],
   "source": [
    "#type(X_train)\n",
    "#type(X_test)\n",
    "#type(y_train)\n",
    "#type(y_test)\n",
    "X_train.head()\n",
    "y_train.describe()"
   ]
  },
  {
   "cell_type": "markdown",
   "metadata": {},
   "source": [
    "<p style=\"font-family: Arial; font-size:1.75em;color:purple; font-style:bold\"><br>\n",
    "\n",
    "Fit on Train Set\n",
    "<br><br></p>\n"
   ]
  },
  {
   "cell_type": "code",
   "execution_count": 68,
   "metadata": {
    "collapsed": false
   },
   "outputs": [
    {
     "output_type": "execute_result",
     "data": {
      "text/plain": "DecisionTreeClassifier(ccp_alpha=0.0, class_weight=None, criterion='gini',\n                       max_depth=None, max_features=None, max_leaf_nodes=10,\n                       min_impurity_decrease=0.0, min_impurity_split=None,\n                       min_samples_leaf=1, min_samples_split=2,\n                       min_weight_fraction_leaf=0.0, presort='deprecated',\n                       random_state=0, splitter='best')"
     },
     "metadata": {},
     "execution_count": 68
    }
   ],
   "source": [
    "wind_speed_classifier = DecisionTreeClassifier(max_leaf_nodes=10, random_state=0)\n",
    "wind_speed_classifier.fit(X_train, y_train)"
   ]
  },
  {
   "cell_type": "code",
   "execution_count": 69,
   "metadata": {
    "collapsed": false
   },
   "outputs": [
    {
     "output_type": "execute_result",
     "data": {
      "text/plain": "sklearn.tree._classes.DecisionTreeClassifier"
     },
     "metadata": {},
     "execution_count": 69
    }
   ],
   "source": [
    "type(wind_speed_classifier)"
   ]
  },
  {
   "cell_type": "markdown",
   "metadata": {},
   "source": [
    "<p style=\"font-family: Arial; font-size:1.75em;color:purple; font-style:bold\"><br>\n",
    "\n",
    "Predict on Test Set \n",
    "\n",
    "<br><br></p>\n"
   ]
  },
  {
   "cell_type": "code",
   "execution_count": 70,
   "metadata": {
    "collapsed": false
   },
   "outputs": [],
   "source": [
    "predictions = wind_speed_classifier.predict(X_test)"
   ]
  },
  {
   "cell_type": "code",
   "execution_count": 71,
   "metadata": {
    "collapsed": false
   },
   "outputs": [
    {
     "output_type": "execute_result",
     "data": {
      "text/plain": "array([0, 0, 0, 0, 0, 1, 1, 1, 0, 1])"
     },
     "metadata": {},
     "execution_count": 71
    }
   ],
   "source": [
    "predictions[:10]"
   ]
  },
  {
   "cell_type": "code",
   "execution_count": 72,
   "metadata": {
    "collapsed": false
   },
   "outputs": [
    {
     "output_type": "execute_result",
     "data": {
      "text/plain": "456     0\n845     0\n693     0\n259     0\n723     0\n224     1\n300     1\n442     1\n585     0\n1057    1\nName: max_wind_speed_label, dtype: int64"
     },
     "metadata": {},
     "execution_count": 72
    }
   ],
   "source": [
    "y_test['max_wind_speed_label'][:10]"
   ]
  },
  {
   "cell_type": "markdown",
   "metadata": {},
   "source": [
    "<p style=\"font-family: Arial; font-size:1.75em;color:purple; font-style:bold\"><br>\n",
    "\n",
    "Measure Accuracy of the Classifier\n",
    "<br><br></p>\n"
   ]
  },
  {
   "cell_type": "code",
   "execution_count": 73,
   "metadata": {
    "collapsed": false
   },
   "outputs": [
    {
     "output_type": "execute_result",
     "data": {
      "text/plain": "0.9630681818181818"
     },
     "metadata": {},
     "execution_count": 73
    }
   ],
   "source": [
    "accuracy_score(y_true = y_test, y_pred = predictions)"
   ]
  },
  {
   "cell_type": "code",
   "execution_count": null,
   "metadata": {
    "collapsed": true
   },
   "outputs": [],
   "source": []
  }
 ],
 "metadata": {
  "kernelspec": {
   "display_name": "Python 3.7.6 64-bit ('base': conda)",
   "language": "python",
   "name": "python37664bitbasecondaf63dcb98b9c946469c70cf84254e419f"
  },
  "language_info": {
   "codemirror_mode": {
    "name": "ipython",
    "version": 3
   },
   "file_extension": ".py",
   "mimetype": "text/x-python",
   "name": "python",
   "nbconvert_exporter": "python",
   "pygments_lexer": "ipython3",
   "version": "3.7.5-final"
  }
 },
 "nbformat": 4,
 "nbformat_minor": 2
}