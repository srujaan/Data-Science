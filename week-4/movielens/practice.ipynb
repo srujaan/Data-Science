{
 "nbformat": 4,
 "nbformat_minor": 2,
 "metadata": {
  "language_info": {
   "name": "python",
   "codemirror_mode": {
    "name": "ipython",
    "version": 3
   },
   "version": "3.7.5-final"
  },
  "orig_nbformat": 2,
  "file_extension": ".py",
  "mimetype": "text/x-python",
  "name": "python",
  "npconvert_exporter": "python",
  "pygments_lexer": "ipython3",
  "version": 3,
  "kernelspec": {
   "name": "python37664bitbasecondaf63dcb98b9c946469c70cf84254e419f",
   "display_name": "Python 3.7.6 64-bit ('base': conda)"
  }
 },
 "cells": [
  {
   "cell_type": "code",
   "execution_count": 1,
   "metadata": {},
   "outputs": [],
   "source": [
    "import pandas as pd"
   ]
  },
  {
   "cell_type": "code",
   "execution_count": 2,
   "metadata": {},
   "outputs": [],
   "source": [
    "d = {'one' : pd.Series([1,2,3], index = ['RDR2', 'CS:GO', 'Destiny2']),\n",
    "     'two' : pd.Series([4,5,6,7], index = ['RDR2','CS:GO','Final Fantasy','GTA5'])   \n",
    "\n",
    "}"
   ]
  },
  {
   "cell_type": "code",
   "execution_count": 3,
   "metadata": {},
   "outputs": [
    {
     "output_type": "execute_result",
     "data": {
      "text/plain": "               one  two\nCS:GO          2.0  5.0\nDestiny2       3.0  NaN\nFinal Fantasy  NaN  6.0\nGTA5           NaN  7.0\nRDR2           1.0  4.0",
      "text/html": "<div>\n<style scoped>\n    .dataframe tbody tr th:only-of-type {\n        vertical-align: middle;\n    }\n\n    .dataframe tbody tr th {\n        vertical-align: top;\n    }\n\n    .dataframe thead th {\n        text-align: right;\n    }\n</style>\n<table border=\"1\" class=\"dataframe\">\n  <thead>\n    <tr style=\"text-align: right;\">\n      <th></th>\n      <th>one</th>\n      <th>two</th>\n    </tr>\n  </thead>\n  <tbody>\n    <tr>\n      <th>CS:GO</th>\n      <td>2.0</td>\n      <td>5.0</td>\n    </tr>\n    <tr>\n      <th>Destiny2</th>\n      <td>3.0</td>\n      <td>NaN</td>\n    </tr>\n    <tr>\n      <th>Final Fantasy</th>\n      <td>NaN</td>\n      <td>6.0</td>\n    </tr>\n    <tr>\n      <th>GTA5</th>\n      <td>NaN</td>\n      <td>7.0</td>\n    </tr>\n    <tr>\n      <th>RDR2</th>\n      <td>1.0</td>\n      <td>4.0</td>\n    </tr>\n  </tbody>\n</table>\n</div>"
     },
     "metadata": {},
     "execution_count": 3
    }
   ],
   "source": [
    "df = pd.DataFrame(d)\n",
    "df"
   ]
  },
  {
   "cell_type": "code",
   "execution_count": 4,
   "metadata": {},
   "outputs": [],
   "source": [
    "de = {'one' : pd.Series([100., 200., 300.], index=['apple', 'ball', 'clock']),\n",
    "     'two' : pd.Series([111., 222., 333., 4444.], index=['apple', 'ball', 'cerill', 'dancy'])}"
   ]
  },
  {
   "cell_type": "code",
   "execution_count": 5,
   "metadata": {},
   "outputs": [
    {
     "output_type": "stream",
     "name": "stdout",
     "text": "one     two\napple   100.0   111.0\nball    200.0   222.0\ncerill    NaN   333.0\nclock   300.0     NaN\ndancy     NaN  4444.0\n"
    }
   ],
   "source": [
    "da = pd.DataFrame(de)\n",
    "print(da)"
   ]
  },
  {
   "cell_type": "code",
   "execution_count": 6,
   "metadata": {},
   "outputs": [],
   "source": [
    "f = {'Car Rank' : pd.Series([100, 200 ,300, 400], index=['Mercedes', 'Porshe', 'Rolls-Royce', 'Aston Martin']),\n",
    "     'Speed in mph' : pd.Series([212, 234, 250, 222,300], index=['Mercedes', 'Porshe', 'Lamborghini', 'Bently', 'McLaren'])\n",
    "}"
   ]
  },
  {
   "cell_type": "code",
   "execution_count": 7,
   "metadata": {},
   "outputs": [
    {
     "output_type": "execute_result",
     "data": {
      "text/plain": "              Car Rank  Speed in mph\nAston Martin     400.0           NaN\nBently             NaN         222.0\nLamborghini        NaN         250.0\nMcLaren            NaN         300.0\nMercedes         100.0         212.0\nPorshe           200.0         234.0\nRolls-Royce      300.0           NaN",
      "text/html": "<div>\n<style scoped>\n    .dataframe tbody tr th:only-of-type {\n        vertical-align: middle;\n    }\n\n    .dataframe tbody tr th {\n        vertical-align: top;\n    }\n\n    .dataframe thead th {\n        text-align: right;\n    }\n</style>\n<table border=\"1\" class=\"dataframe\">\n  <thead>\n    <tr style=\"text-align: right;\">\n      <th></th>\n      <th>Car Rank</th>\n      <th>Speed in mph</th>\n    </tr>\n  </thead>\n  <tbody>\n    <tr>\n      <th>Aston Martin</th>\n      <td>400.0</td>\n      <td>NaN</td>\n    </tr>\n    <tr>\n      <th>Bently</th>\n      <td>NaN</td>\n      <td>222.0</td>\n    </tr>\n    <tr>\n      <th>Lamborghini</th>\n      <td>NaN</td>\n      <td>250.0</td>\n    </tr>\n    <tr>\n      <th>McLaren</th>\n      <td>NaN</td>\n      <td>300.0</td>\n    </tr>\n    <tr>\n      <th>Mercedes</th>\n      <td>100.0</td>\n      <td>212.0</td>\n    </tr>\n    <tr>\n      <th>Porshe</th>\n      <td>200.0</td>\n      <td>234.0</td>\n    </tr>\n    <tr>\n      <th>Rolls-Royce</th>\n      <td>300.0</td>\n      <td>NaN</td>\n    </tr>\n  </tbody>\n</table>\n</div>"
     },
     "metadata": {},
     "execution_count": 7
    }
   ],
   "source": [
    "top_cars = pd.DataFrame(f)\n",
    "top_cars"
   ]
  },
  {
   "cell_type": "code",
   "execution_count": 8,
   "metadata": {},
   "outputs": [
    {
     "output_type": "execute_result",
     "data": {
      "text/plain": "              Car Rank  Speed in mph\nMercedes         100.0         212.0\nBently             NaN         222.0\nPorshe           200.0         234.0\nLamborghini        NaN         250.0\nMcLaren            NaN         300.0\nAston Martin     400.0           NaN\nRolls-Royce      300.0           NaN",
      "text/html": "<div>\n<style scoped>\n    .dataframe tbody tr th:only-of-type {\n        vertical-align: middle;\n    }\n\n    .dataframe tbody tr th {\n        vertical-align: top;\n    }\n\n    .dataframe thead th {\n        text-align: right;\n    }\n</style>\n<table border=\"1\" class=\"dataframe\">\n  <thead>\n    <tr style=\"text-align: right;\">\n      <th></th>\n      <th>Car Rank</th>\n      <th>Speed in mph</th>\n    </tr>\n  </thead>\n  <tbody>\n    <tr>\n      <th>Mercedes</th>\n      <td>100.0</td>\n      <td>212.0</td>\n    </tr>\n    <tr>\n      <th>Bently</th>\n      <td>NaN</td>\n      <td>222.0</td>\n    </tr>\n    <tr>\n      <th>Porshe</th>\n      <td>200.0</td>\n      <td>234.0</td>\n    </tr>\n    <tr>\n      <th>Lamborghini</th>\n      <td>NaN</td>\n      <td>250.0</td>\n    </tr>\n    <tr>\n      <th>McLaren</th>\n      <td>NaN</td>\n      <td>300.0</td>\n    </tr>\n    <tr>\n      <th>Aston Martin</th>\n      <td>400.0</td>\n      <td>NaN</td>\n    </tr>\n    <tr>\n      <th>Rolls-Royce</th>\n      <td>300.0</td>\n      <td>NaN</td>\n    </tr>\n  </tbody>\n</table>\n</div>"
     },
     "metadata": {},
     "execution_count": 8
    }
   ],
   "source": [
    "top_cars.sort_values(by='Speed in mph')"
   ]
  },
  {
   "cell_type": "code",
   "execution_count": 9,
   "metadata": {},
   "outputs": [
    {
     "output_type": "execute_result",
     "data": {
      "text/plain": "Index(['Aston Martin', 'Bently', 'Lamborghini', 'McLaren', 'Mercedes',\n       'Porshe', 'Rolls-Royce'],\n      dtype='object')"
     },
     "metadata": {},
     "execution_count": 9
    }
   ],
   "source": [
    "top_cars.index"
   ]
  },
  {
   "cell_type": "code",
   "execution_count": 10,
   "metadata": {},
   "outputs": [
    {
     "output_type": "execute_result",
     "data": {
      "text/plain": "Index(['Car Rank', 'Speed in mph'], dtype='object')"
     },
     "metadata": {},
     "execution_count": 10
    }
   ],
   "source": [
    "top_cars.columns # This refers to the column headings"
   ]
  },
  {
   "cell_type": "code",
   "execution_count": 11,
   "metadata": {},
   "outputs": [
    {
     "output_type": "execute_result",
     "data": {
      "text/plain": "         Car Rank\nBently        NaN\nMcLaren       NaN",
      "text/html": "<div>\n<style scoped>\n    .dataframe tbody tr th:only-of-type {\n        vertical-align: middle;\n    }\n\n    .dataframe tbody tr th {\n        vertical-align: top;\n    }\n\n    .dataframe thead th {\n        text-align: right;\n    }\n</style>\n<table border=\"1\" class=\"dataframe\">\n  <thead>\n    <tr style=\"text-align: right;\">\n      <th></th>\n      <th>Car Rank</th>\n    </tr>\n  </thead>\n  <tbody>\n    <tr>\n      <th>Bently</th>\n      <td>NaN</td>\n    </tr>\n    <tr>\n      <th>McLaren</th>\n      <td>NaN</td>\n    </tr>\n  </tbody>\n</table>\n</div>"
     },
     "metadata": {},
     "execution_count": 11
    }
   ],
   "source": [
    "pd.DataFrame(top_cars,index=['Bently','McLaren'],columns=['Car Rank'])"
   ]
  },
  {
   "cell_type": "markdown",
   "metadata": {},
   "source": [
    "# Create DataFrame from list of Python dictionaries"
   ]
  },
  {
   "cell_type": "code",
   "execution_count": 12,
   "metadata": {},
   "outputs": [],
   "source": [
    "data = [{'alex': 1, 'joe': 2}, {'ema': 5, 'dora': 10, 'alice': 20}]"
   ]
  },
  {
   "cell_type": "code",
   "execution_count": 13,
   "metadata": {},
   "outputs": [
    {
     "output_type": "execute_result",
     "data": {
      "text/plain": "   alex  joe  ema  dora  alice\n0   1.0  2.0  NaN   NaN    NaN\n1   NaN  NaN  5.0  10.0   20.0",
      "text/html": "<div>\n<style scoped>\n    .dataframe tbody tr th:only-of-type {\n        vertical-align: middle;\n    }\n\n    .dataframe tbody tr th {\n        vertical-align: top;\n    }\n\n    .dataframe thead th {\n        text-align: right;\n    }\n</style>\n<table border=\"1\" class=\"dataframe\">\n  <thead>\n    <tr style=\"text-align: right;\">\n      <th></th>\n      <th>alex</th>\n      <th>joe</th>\n      <th>ema</th>\n      <th>dora</th>\n      <th>alice</th>\n    </tr>\n  </thead>\n  <tbody>\n    <tr>\n      <th>0</th>\n      <td>1.0</td>\n      <td>2.0</td>\n      <td>NaN</td>\n      <td>NaN</td>\n      <td>NaN</td>\n    </tr>\n    <tr>\n      <th>1</th>\n      <td>NaN</td>\n      <td>NaN</td>\n      <td>5.0</td>\n      <td>10.0</td>\n      <td>20.0</td>\n    </tr>\n  </tbody>\n</table>\n</div>"
     },
     "metadata": {},
     "execution_count": 13
    }
   ],
   "source": [
    "pd.DataFrame(data)"
   ]
  },
  {
   "cell_type": "code",
   "execution_count": 14,
   "metadata": {},
   "outputs": [
    {
     "output_type": "execute_result",
     "data": {
      "text/plain": "   Jon Snow  Bran stark  Sansa Strak  Arya Strak  Tywin Lannister  \\\n0       1.0         2.0          3.0         4.0              NaN   \n1       NaN         NaN          NaN         NaN              6.0   \n\n   Tyrion Lannister  Cersei Lannister  \n0               NaN               NaN  \n1               7.0               8.0  ",
      "text/html": "<div>\n<style scoped>\n    .dataframe tbody tr th:only-of-type {\n        vertical-align: middle;\n    }\n\n    .dataframe tbody tr th {\n        vertical-align: top;\n    }\n\n    .dataframe thead th {\n        text-align: right;\n    }\n</style>\n<table border=\"1\" class=\"dataframe\">\n  <thead>\n    <tr style=\"text-align: right;\">\n      <th></th>\n      <th>Jon Snow</th>\n      <th>Bran stark</th>\n      <th>Sansa Strak</th>\n      <th>Arya Strak</th>\n      <th>Tywin Lannister</th>\n      <th>Tyrion Lannister</th>\n      <th>Cersei Lannister</th>\n    </tr>\n  </thead>\n  <tbody>\n    <tr>\n      <th>0</th>\n      <td>1.0</td>\n      <td>2.0</td>\n      <td>3.0</td>\n      <td>4.0</td>\n      <td>NaN</td>\n      <td>NaN</td>\n      <td>NaN</td>\n    </tr>\n    <tr>\n      <th>1</th>\n      <td>NaN</td>\n      <td>NaN</td>\n      <td>NaN</td>\n      <td>NaN</td>\n      <td>6.0</td>\n      <td>7.0</td>\n      <td>8.0</td>\n    </tr>\n  </tbody>\n</table>\n</div>"
     },
     "metadata": {},
     "execution_count": 14
    }
   ],
   "source": [
    "stark = [{'Jon Snow' : 1, 'Bran stark' : 2, 'Sansa Strak' : 3, 'Arya Strak' : 4}, {'Tywin Lannister' : 6, 'Tyrion Lannister': 7, 'Cersei Lannister' : 8}]\n",
    "show = pd.DataFrame(stark)\n",
    "show"
   ]
  },
  {
   "cell_type": "markdown",
   "metadata": {},
   "source": [
    "# Basic DataFrame operations"
   ]
  },
  {
   "cell_type": "code",
   "execution_count": 15,
   "metadata": {},
   "outputs": [
    {
     "output_type": "execute_result",
     "data": {
      "text/plain": "   Jon Snow  Bran stark  Sansa Strak  Arya Strak  Tywin Lannister  \\\n0       1.0         2.0          3.0         4.0              NaN   \n1       NaN         NaN          NaN         NaN              6.0   \n\n   Tyrion Lannister  Cersei Lannister  \n0               NaN               NaN  \n1               7.0               8.0  ",
      "text/html": "<div>\n<style scoped>\n    .dataframe tbody tr th:only-of-type {\n        vertical-align: middle;\n    }\n\n    .dataframe tbody tr th {\n        vertical-align: top;\n    }\n\n    .dataframe thead th {\n        text-align: right;\n    }\n</style>\n<table border=\"1\" class=\"dataframe\">\n  <thead>\n    <tr style=\"text-align: right;\">\n      <th></th>\n      <th>Jon Snow</th>\n      <th>Bran stark</th>\n      <th>Sansa Strak</th>\n      <th>Arya Strak</th>\n      <th>Tywin Lannister</th>\n      <th>Tyrion Lannister</th>\n      <th>Cersei Lannister</th>\n    </tr>\n  </thead>\n  <tbody>\n    <tr>\n      <th>0</th>\n      <td>1.0</td>\n      <td>2.0</td>\n      <td>3.0</td>\n      <td>4.0</td>\n      <td>NaN</td>\n      <td>NaN</td>\n      <td>NaN</td>\n    </tr>\n    <tr>\n      <th>1</th>\n      <td>NaN</td>\n      <td>NaN</td>\n      <td>NaN</td>\n      <td>NaN</td>\n      <td>6.0</td>\n      <td>7.0</td>\n      <td>8.0</td>\n    </tr>\n  </tbody>\n</table>\n</div>"
     },
     "metadata": {},
     "execution_count": 15
    }
   ],
   "source": [
    "show"
   ]
  },
  {
   "cell_type": "code",
   "execution_count": 16,
   "metadata": {},
   "outputs": [
    {
     "output_type": "execute_result",
     "data": {
      "text/plain": "0    3.0\n1    NaN\nName: Sansa Strak, dtype: float64"
     },
     "metadata": {},
     "execution_count": 16
    }
   ],
   "source": [
    "show['Sansa Strak']"
   ]
  },
  {
   "cell_type": "code",
   "execution_count": 17,
   "metadata": {},
   "outputs": [],
   "source": [
    "top_cars['another'] = top_cars['Car Rank'] * top_cars['Speed in mph']"
   ]
  },
  {
   "cell_type": "code",
   "execution_count": 18,
   "metadata": {},
   "outputs": [
    {
     "output_type": "execute_result",
     "data": {
      "text/plain": "              Car Rank  Speed in mph  another\nAston Martin     400.0           NaN      NaN\nBently             NaN         222.0      NaN\nLamborghini        NaN         250.0      NaN\nMcLaren            NaN         300.0      NaN\nMercedes         100.0         212.0  21200.0\nPorshe           200.0         234.0  46800.0\nRolls-Royce      300.0           NaN      NaN",
      "text/html": "<div>\n<style scoped>\n    .dataframe tbody tr th:only-of-type {\n        vertical-align: middle;\n    }\n\n    .dataframe tbody tr th {\n        vertical-align: top;\n    }\n\n    .dataframe thead th {\n        text-align: right;\n    }\n</style>\n<table border=\"1\" class=\"dataframe\">\n  <thead>\n    <tr style=\"text-align: right;\">\n      <th></th>\n      <th>Car Rank</th>\n      <th>Speed in mph</th>\n      <th>another</th>\n    </tr>\n  </thead>\n  <tbody>\n    <tr>\n      <th>Aston Martin</th>\n      <td>400.0</td>\n      <td>NaN</td>\n      <td>NaN</td>\n    </tr>\n    <tr>\n      <th>Bently</th>\n      <td>NaN</td>\n      <td>222.0</td>\n      <td>NaN</td>\n    </tr>\n    <tr>\n      <th>Lamborghini</th>\n      <td>NaN</td>\n      <td>250.0</td>\n      <td>NaN</td>\n    </tr>\n    <tr>\n      <th>McLaren</th>\n      <td>NaN</td>\n      <td>300.0</td>\n      <td>NaN</td>\n    </tr>\n    <tr>\n      <th>Mercedes</th>\n      <td>100.0</td>\n      <td>212.0</td>\n      <td>21200.0</td>\n    </tr>\n    <tr>\n      <th>Porshe</th>\n      <td>200.0</td>\n      <td>234.0</td>\n      <td>46800.0</td>\n    </tr>\n    <tr>\n      <th>Rolls-Royce</th>\n      <td>300.0</td>\n      <td>NaN</td>\n      <td>NaN</td>\n    </tr>\n  </tbody>\n</table>\n</div>"
     },
     "metadata": {},
     "execution_count": 18
    }
   ],
   "source": [
    "top_cars"
   ]
  },
  {
   "cell_type": "code",
   "execution_count": 19,
   "metadata": {},
   "outputs": [],
   "source": [
    "top_cars['flag'] = top_cars['another'] > 2000"
   ]
  },
  {
   "cell_type": "code",
   "execution_count": 20,
   "metadata": {},
   "outputs": [
    {
     "output_type": "execute_result",
     "data": {
      "text/plain": "              Car Rank  Speed in mph  another   flag\nAston Martin     400.0           NaN      NaN  False\nBently             NaN         222.0      NaN  False\nLamborghini        NaN         250.0      NaN  False\nMcLaren            NaN         300.0      NaN  False\nMercedes         100.0         212.0  21200.0   True\nPorshe           200.0         234.0  46800.0   True\nRolls-Royce      300.0           NaN      NaN  False",
      "text/html": "<div>\n<style scoped>\n    .dataframe tbody tr th:only-of-type {\n        vertical-align: middle;\n    }\n\n    .dataframe tbody tr th {\n        vertical-align: top;\n    }\n\n    .dataframe thead th {\n        text-align: right;\n    }\n</style>\n<table border=\"1\" class=\"dataframe\">\n  <thead>\n    <tr style=\"text-align: right;\">\n      <th></th>\n      <th>Car Rank</th>\n      <th>Speed in mph</th>\n      <th>another</th>\n      <th>flag</th>\n    </tr>\n  </thead>\n  <tbody>\n    <tr>\n      <th>Aston Martin</th>\n      <td>400.0</td>\n      <td>NaN</td>\n      <td>NaN</td>\n      <td>False</td>\n    </tr>\n    <tr>\n      <th>Bently</th>\n      <td>NaN</td>\n      <td>222.0</td>\n      <td>NaN</td>\n      <td>False</td>\n    </tr>\n    <tr>\n      <th>Lamborghini</th>\n      <td>NaN</td>\n      <td>250.0</td>\n      <td>NaN</td>\n      <td>False</td>\n    </tr>\n    <tr>\n      <th>McLaren</th>\n      <td>NaN</td>\n      <td>300.0</td>\n      <td>NaN</td>\n      <td>False</td>\n    </tr>\n    <tr>\n      <th>Mercedes</th>\n      <td>100.0</td>\n      <td>212.0</td>\n      <td>21200.0</td>\n      <td>True</td>\n    </tr>\n    <tr>\n      <th>Porshe</th>\n      <td>200.0</td>\n      <td>234.0</td>\n      <td>46800.0</td>\n      <td>True</td>\n    </tr>\n    <tr>\n      <th>Rolls-Royce</th>\n      <td>300.0</td>\n      <td>NaN</td>\n      <td>NaN</td>\n      <td>False</td>\n    </tr>\n  </tbody>\n</table>\n</div>"
     },
     "metadata": {},
     "execution_count": 20
    }
   ],
   "source": [
    "top_cars"
   ]
  },
  {
   "cell_type": "code",
   "execution_count": 21,
   "metadata": {},
   "outputs": [
    {
     "output_type": "execute_result",
     "data": {
      "text/plain": "              Car Rank  Speed in mph  another   flag\nAston Martin     400.0           NaN      NaN  False\nBently             NaN         222.0      NaN  False\nLamborghini        NaN         250.0      NaN  False\nMcLaren            NaN         300.0      NaN  False\nMercedes         100.0         212.0  21200.0   True\nPorshe           200.0         234.0  46800.0   True\nRolls-Royce      300.0           NaN      NaN  False",
      "text/html": "<div>\n<style scoped>\n    .dataframe tbody tr th:only-of-type {\n        vertical-align: middle;\n    }\n\n    .dataframe tbody tr th {\n        vertical-align: top;\n    }\n\n    .dataframe thead th {\n        text-align: right;\n    }\n</style>\n<table border=\"1\" class=\"dataframe\">\n  <thead>\n    <tr style=\"text-align: right;\">\n      <th></th>\n      <th>Car Rank</th>\n      <th>Speed in mph</th>\n      <th>another</th>\n      <th>flag</th>\n    </tr>\n  </thead>\n  <tbody>\n    <tr>\n      <th>Aston Martin</th>\n      <td>400.0</td>\n      <td>NaN</td>\n      <td>NaN</td>\n      <td>False</td>\n    </tr>\n    <tr>\n      <th>Bently</th>\n      <td>NaN</td>\n      <td>222.0</td>\n      <td>NaN</td>\n      <td>False</td>\n    </tr>\n    <tr>\n      <th>Lamborghini</th>\n      <td>NaN</td>\n      <td>250.0</td>\n      <td>NaN</td>\n      <td>False</td>\n    </tr>\n    <tr>\n      <th>McLaren</th>\n      <td>NaN</td>\n      <td>300.0</td>\n      <td>NaN</td>\n      <td>False</td>\n    </tr>\n    <tr>\n      <th>Mercedes</th>\n      <td>100.0</td>\n      <td>212.0</td>\n      <td>21200.0</td>\n      <td>True</td>\n    </tr>\n    <tr>\n      <th>Porshe</th>\n      <td>200.0</td>\n      <td>234.0</td>\n      <td>46800.0</td>\n      <td>True</td>\n    </tr>\n    <tr>\n      <th>Rolls-Royce</th>\n      <td>300.0</td>\n      <td>NaN</td>\n      <td>NaN</td>\n      <td>False</td>\n    </tr>\n  </tbody>\n</table>\n</div>"
     },
     "metadata": {},
     "execution_count": 21
    }
   ],
   "source": [
    "sample_cars = top_cars\n",
    "#dele = sample_cars.pop('another')\n",
    "sample_cars"
   ]
  },
  {
   "cell_type": "code",
   "execution_count": 22,
   "metadata": {},
   "outputs": [],
   "source": [
    "another_del = top_cars\n",
    "del another_del['flag']"
   ]
  },
  {
   "cell_type": "code",
   "execution_count": 23,
   "metadata": {},
   "outputs": [
    {
     "output_type": "execute_result",
     "data": {
      "text/plain": "              Car Rank  Speed in mph  another\nAston Martin     400.0           NaN      NaN\nBently             NaN         222.0      NaN\nLamborghini        NaN         250.0      NaN\nMcLaren            NaN         300.0      NaN\nMercedes         100.0         212.0  21200.0\nPorshe           200.0         234.0  46800.0\nRolls-Royce      300.0           NaN      NaN",
      "text/html": "<div>\n<style scoped>\n    .dataframe tbody tr th:only-of-type {\n        vertical-align: middle;\n    }\n\n    .dataframe tbody tr th {\n        vertical-align: top;\n    }\n\n    .dataframe thead th {\n        text-align: right;\n    }\n</style>\n<table border=\"1\" class=\"dataframe\">\n  <thead>\n    <tr style=\"text-align: right;\">\n      <th></th>\n      <th>Car Rank</th>\n      <th>Speed in mph</th>\n      <th>another</th>\n    </tr>\n  </thead>\n  <tbody>\n    <tr>\n      <th>Aston Martin</th>\n      <td>400.0</td>\n      <td>NaN</td>\n      <td>NaN</td>\n    </tr>\n    <tr>\n      <th>Bently</th>\n      <td>NaN</td>\n      <td>222.0</td>\n      <td>NaN</td>\n    </tr>\n    <tr>\n      <th>Lamborghini</th>\n      <td>NaN</td>\n      <td>250.0</td>\n      <td>NaN</td>\n    </tr>\n    <tr>\n      <th>McLaren</th>\n      <td>NaN</td>\n      <td>300.0</td>\n      <td>NaN</td>\n    </tr>\n    <tr>\n      <th>Mercedes</th>\n      <td>100.0</td>\n      <td>212.0</td>\n      <td>21200.0</td>\n    </tr>\n    <tr>\n      <th>Porshe</th>\n      <td>200.0</td>\n      <td>234.0</td>\n      <td>46800.0</td>\n    </tr>\n    <tr>\n      <th>Rolls-Royce</th>\n      <td>300.0</td>\n      <td>NaN</td>\n      <td>NaN</td>\n    </tr>\n  </tbody>\n</table>\n</div>"
     },
     "metadata": {},
     "execution_count": 23
    }
   ],
   "source": [
    "another_del"
   ]
  },
  {
   "cell_type": "code",
   "execution_count": 26,
   "metadata": {},
   "outputs": [
    {
     "output_type": "execute_result",
     "data": {
      "text/plain": "              Car Rank  Speed in mph  another\nAston Martin     400.0           NaN      NaN\nBently             NaN         222.0      NaN\nLamborghini        NaN         250.0      NaN\nMcLaren            NaN         300.0      NaN\nMercedes         100.0         212.0  21200.0\nPorshe           200.0         234.0  46800.0\nRolls-Royce      300.0           NaN      NaN",
      "text/html": "<div>\n<style scoped>\n    .dataframe tbody tr th:only-of-type {\n        vertical-align: middle;\n    }\n\n    .dataframe tbody tr th {\n        vertical-align: top;\n    }\n\n    .dataframe thead th {\n        text-align: right;\n    }\n</style>\n<table border=\"1\" class=\"dataframe\">\n  <thead>\n    <tr style=\"text-align: right;\">\n      <th></th>\n      <th>Car Rank</th>\n      <th>Speed in mph</th>\n      <th>another</th>\n    </tr>\n  </thead>\n  <tbody>\n    <tr>\n      <th>Aston Martin</th>\n      <td>400.0</td>\n      <td>NaN</td>\n      <td>NaN</td>\n    </tr>\n    <tr>\n      <th>Bently</th>\n      <td>NaN</td>\n      <td>222.0</td>\n      <td>NaN</td>\n    </tr>\n    <tr>\n      <th>Lamborghini</th>\n      <td>NaN</td>\n      <td>250.0</td>\n      <td>NaN</td>\n    </tr>\n    <tr>\n      <th>McLaren</th>\n      <td>NaN</td>\n      <td>300.0</td>\n      <td>NaN</td>\n    </tr>\n    <tr>\n      <th>Mercedes</th>\n      <td>100.0</td>\n      <td>212.0</td>\n      <td>21200.0</td>\n    </tr>\n    <tr>\n      <th>Porshe</th>\n      <td>200.0</td>\n      <td>234.0</td>\n      <td>46800.0</td>\n    </tr>\n    <tr>\n      <th>Rolls-Royce</th>\n      <td>300.0</td>\n      <td>NaN</td>\n      <td>NaN</td>\n    </tr>\n  </tbody>\n</table>\n</div>"
     },
     "metadata": {},
     "execution_count": 26
    }
   ],
   "source": [
    "top_cars"
   ]
  },
  {
   "cell_type": "code",
   "execution_count": 28,
   "metadata": {},
   "outputs": [],
   "source": [
    "top_cars.insert(3, 'copy_of_Car_Rank', top_cars['Car Rank'])"
   ]
  },
  {
   "cell_type": "code",
   "execution_count": 29,
   "metadata": {},
   "outputs": [
    {
     "output_type": "execute_result",
     "data": {
      "text/plain": "              Car Rank  Speed in mph  another  copy_of_Car_Rank\nAston Martin     400.0           NaN      NaN             400.0\nBently             NaN         222.0      NaN               NaN\nLamborghini        NaN         250.0      NaN               NaN\nMcLaren            NaN         300.0      NaN               NaN\nMercedes         100.0         212.0  21200.0             100.0\nPorshe           200.0         234.0  46800.0             200.0\nRolls-Royce      300.0           NaN      NaN             300.0",
      "text/html": "<div>\n<style scoped>\n    .dataframe tbody tr th:only-of-type {\n        vertical-align: middle;\n    }\n\n    .dataframe tbody tr th {\n        vertical-align: top;\n    }\n\n    .dataframe thead th {\n        text-align: right;\n    }\n</style>\n<table border=\"1\" class=\"dataframe\">\n  <thead>\n    <tr style=\"text-align: right;\">\n      <th></th>\n      <th>Car Rank</th>\n      <th>Speed in mph</th>\n      <th>another</th>\n      <th>copy_of_Car_Rank</th>\n    </tr>\n  </thead>\n  <tbody>\n    <tr>\n      <th>Aston Martin</th>\n      <td>400.0</td>\n      <td>NaN</td>\n      <td>NaN</td>\n      <td>400.0</td>\n    </tr>\n    <tr>\n      <th>Bently</th>\n      <td>NaN</td>\n      <td>222.0</td>\n      <td>NaN</td>\n      <td>NaN</td>\n    </tr>\n    <tr>\n      <th>Lamborghini</th>\n      <td>NaN</td>\n      <td>250.0</td>\n      <td>NaN</td>\n      <td>NaN</td>\n    </tr>\n    <tr>\n      <th>McLaren</th>\n      <td>NaN</td>\n      <td>300.0</td>\n      <td>NaN</td>\n      <td>NaN</td>\n    </tr>\n    <tr>\n      <th>Mercedes</th>\n      <td>100.0</td>\n      <td>212.0</td>\n      <td>21200.0</td>\n      <td>100.0</td>\n    </tr>\n    <tr>\n      <th>Porshe</th>\n      <td>200.0</td>\n      <td>234.0</td>\n      <td>46800.0</td>\n      <td>200.0</td>\n    </tr>\n    <tr>\n      <th>Rolls-Royce</th>\n      <td>300.0</td>\n      <td>NaN</td>\n      <td>NaN</td>\n      <td>300.0</td>\n    </tr>\n  </tbody>\n</table>\n</div>"
     },
     "metadata": {},
     "execution_count": 29
    }
   ],
   "source": [
    "top_cars"
   ]
  },
  {
   "cell_type": "code",
   "execution_count": null,
   "metadata": {},
   "outputs": [],
   "source": []
  }
 ]
}