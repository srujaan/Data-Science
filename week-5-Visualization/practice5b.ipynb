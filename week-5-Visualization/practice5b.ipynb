{
 "nbformat": 4,
 "nbformat_minor": 2,
 "metadata": {
  "language_info": {
   "name": "python",
   "codemirror_mode": {
    "name": "ipython",
    "version": 3
   },
   "version": "3.7.5-final"
  },
  "orig_nbformat": 2,
  "file_extension": ".py",
  "mimetype": "text/x-python",
  "name": "python",
  "npconvert_exporter": "python",
  "pygments_lexer": "ipython3",
  "version": 3,
  "kernelspec": {
   "name": "python37664bitbasecondaf63dcb98b9c946469c70cf84254e419f",
   "display_name": "Python 3.7.6 64-bit ('base': conda)"
  }
 },
 "cells": [
  {
   "cell_type": "code",
   "execution_count": 11,
   "metadata": {},
   "outputs": [],
   "source": [
    "import pandas as pd\n",
    "import numpy as np\n",
    "import random\n",
    "import matplotlib.pyplot as plt"
   ]
  },
  {
   "cell_type": "code",
   "execution_count": 14,
   "metadata": {},
   "outputs": [
    {
     "output_type": "stream",
     "name": "stdout",
     "text": "(5656458, 6)\n"
    }
   ],
   "source": [
    "read_data = pd.read_csv('/home/srujan/Downloads/world-development-indicators/Indicators.csv')\n",
    "data_shape = np.shape(read_data)\n",
    "print(data_shape)"
   ]
  },
  {
   "cell_type": "code",
   "execution_count": 17,
   "metadata": {},
   "outputs": [
    {
     "output_type": "execute_result",
     "data": {
      "text/plain": "  CountryName CountryCode                                      IndicatorName  \\\n0  Arab World         ARB  Adolescent fertility rate (births per 1,000 wo...   \n1  Arab World         ARB  Age dependency ratio (% of working-age populat...   \n2  Arab World         ARB  Age dependency ratio, old (% of working-age po...   \n\n    IndicatorCode  Year       Value  \n0     SP.ADO.TFRT  1960  133.560907  \n1     SP.POP.DPND  1960   87.797601  \n2  SP.POP.DPND.OL  1960    6.634579  ",
      "text/html": "<div>\n<style scoped>\n    .dataframe tbody tr th:only-of-type {\n        vertical-align: middle;\n    }\n\n    .dataframe tbody tr th {\n        vertical-align: top;\n    }\n\n    .dataframe thead th {\n        text-align: right;\n    }\n</style>\n<table border=\"1\" class=\"dataframe\">\n  <thead>\n    <tr style=\"text-align: right;\">\n      <th></th>\n      <th>CountryName</th>\n      <th>CountryCode</th>\n      <th>IndicatorName</th>\n      <th>IndicatorCode</th>\n      <th>Year</th>\n      <th>Value</th>\n    </tr>\n  </thead>\n  <tbody>\n    <tr>\n      <th>0</th>\n      <td>Arab World</td>\n      <td>ARB</td>\n      <td>Adolescent fertility rate (births per 1,000 wo...</td>\n      <td>SP.ADO.TFRT</td>\n      <td>1960</td>\n      <td>133.560907</td>\n    </tr>\n    <tr>\n      <th>1</th>\n      <td>Arab World</td>\n      <td>ARB</td>\n      <td>Age dependency ratio (% of working-age populat...</td>\n      <td>SP.POP.DPND</td>\n      <td>1960</td>\n      <td>87.797601</td>\n    </tr>\n    <tr>\n      <th>2</th>\n      <td>Arab World</td>\n      <td>ARB</td>\n      <td>Age dependency ratio, old (% of working-age po...</td>\n      <td>SP.POP.DPND.OL</td>\n      <td>1960</td>\n      <td>6.634579</td>\n    </tr>\n  </tbody>\n</table>\n</div>"
     },
     "metadata": {},
     "execution_count": 17
    }
   ],
   "source": [
    "read_data.head(3)"
   ]
  },
  {
   "cell_type": "code",
   "execution_count": 20,
   "metadata": {},
   "outputs": [],
   "source": [
    "#get unique countries\n",
    "countries = read_data['CountryName'].unique().tolist()\n",
    "indicators = read_data['IndicatorName'].unique().tolist()"
   ]
  },
  {
   "cell_type": "code",
   "execution_count": 23,
   "metadata": {},
   "outputs": [],
   "source": [
    "# choosing years\n",
    "years = [2009, 2010, 2011, 2012, 2013, 2014, 2015]"
   ]
  },
  {
   "cell_type": "code",
   "execution_count": 153,
   "metadata": {},
   "outputs": [
    {
     "output_type": "stream",
     "name": "stdout",
     "text": "0: Arab World\n1: Caribbean small states\n2: Central Europe and the Baltics\n3: East Asia & Pacific (all income levels)\n4: East Asia & Pacific (developing only)\n5: Euro area\n6: Europe & Central Asia (all income levels)\n7: Europe & Central Asia (developing only)\n8: European Union\n9: Fragile and conflict affected situations\n10: Heavily indebted poor countries (HIPC)\n11: High income\n12: High income: nonOECD\n13: High income: OECD\n14: Latin America & Caribbean (all income levels)\n15: Latin America & Caribbean (developing only)\n16: Least developed countries: UN classification\n17: Low & middle income\n18: Low income\n19: Lower middle income\n20: Middle East & North Africa (all income levels)\n21: Middle East & North Africa (developing only)\n22: Middle income\n23: North America\n24: OECD members\n25: Other small states\n26: Pacific island small states\n27: Small states\n28: South Asia\n29: Sub-Saharan Africa (all income levels)\n30: Sub-Saharan Africa (developing only)\n31: Upper middle income\n32: World\n33: Afghanistan\n34: Albania\n35: Algeria\n36: American Samoa\n37: Andorra\n38: Angola\n39: Antigua and Barbuda\n40: Argentina\n41: Armenia\n42: Aruba\n43: Australia\n44: Austria\n45: Azerbaijan\n46: Bahamas, The\n47: Bahrain\n48: Bangladesh\n49: Barbados\n50: Belarus\n51: Belgium\n52: Belize\n53: Benin\n54: Bermuda\n55: Bhutan\n56: Bolivia\n57: Bosnia and Herzegovina\n58: Botswana\n59: Brazil\n60: Brunei Darussalam\n61: Bulgaria\n62: Burkina Faso\n63: Burundi\n64: Cabo Verde\n65: Cambodia\n66: Cameroon\n67: Canada\n68: Cayman Islands\n69: Central African Republic\n70: Chad\n71: Channel Islands\n72: Chile\n73: China\n74: Colombia\n75: Comoros\n76: Congo, Dem. Rep.\n77: Congo, Rep.\n78: Costa Rica\n79: Cote d'Ivoire\n80: Croatia\n81: Cuba\n82: Curacao\n83: Cyprus\n84: Czech Republic\n85: Denmark\n86: Djibouti\n87: Dominica\n88: Dominican Republic\n89: Ecuador\n90: Egypt, Arab Rep.\n91: El Salvador\n92: Equatorial Guinea\n93: Eritrea\n94: Estonia\n95: Ethiopia\n96: Faeroe Islands\n97: Fiji\n98: Finland\n99: France\n100: French Polynesia\n101: Gabon\n102: Gambia, The\n103: Georgia\n104: Germany\n105: Ghana\n106: Greece\n107: Greenland\n108: Grenada\n109: Guam\n110: Guatemala\n111: Guinea\n112: Guinea-Bissau\n113: Guyana\n114: Haiti\n115: Honduras\n116: Hong Kong SAR, China\n117: Hungary\n118: Iceland\n119: India\n120: Indonesia\n121: Iran, Islamic Rep.\n122: Iraq\n123: Ireland\n124: Isle of Man\n125: Israel\n126: Italy\n127: Jamaica\n128: Japan\n129: Jordan\n130: Kazakhstan\n131: Kenya\n132: Kiribati\n133: Korea, Dem. Rep.\n134: Korea, Rep.\n135: Kosovo\n136: Kuwait\n137: Kyrgyz Republic\n138: Lao PDR\n139: Latvia\n140: Lebanon\n141: Lesotho\n142: Liberia\n143: Libya\n144: Liechtenstein\n145: Lithuania\n146: Luxembourg\n147: Macao SAR, China\n148: Macedonia, FYR\n149: Madagascar\n150: Malawi\n151: Malaysia\n152: Maldives\n153: Mali\n154: Malta\n155: Marshall Islands\n156: Mauritania\n157: Mauritius\n158: Mexico\n159: Micronesia, Fed. Sts.\n160: Moldova\n161: Monaco\n162: Mongolia\n163: Montenegro\n164: Morocco\n165: Mozambique\n166: Myanmar\n167: Namibia\n168: Nepal\n169: Netherlands\n170: New Caledonia\n171: New Zealand\n172: Nicaragua\n173: Niger\n174: Nigeria\n175: Northern Mariana Islands\n176: Norway\n177: Oman\n178: Pakistan\n179: Palau\n180: Panama\n181: Papua New Guinea\n182: Paraguay\n183: Peru\n184: Philippines\n185: Poland\n186: Portugal\n187: Puerto Rico\n188: Qatar\n189: Romania\n190: Russian Federation\n191: Rwanda\n192: Samoa\n193: San Marino\n194: Sao Tome and Principe\n195: Saudi Arabia\n196: Senegal\n197: Serbia\n198: Seychelles\n199: Sierra Leone\n200: Singapore\n201: Sint Maarten (Dutch part)\n202: Slovak Republic\n203: Slovenia\n204: Solomon Islands\n205: Somalia\n206: South Africa\n207: South Sudan\n208: Spain\n209: Sri Lanka\n210: St. Kitts and Nevis\n211: St. Lucia\n212: St. Martin (French part)\n213: St. Vincent and the Grenadines\n214: Sudan\n215: Suriname\n216: Swaziland\n217: Sweden\n218: Switzerland\n219: Syrian Arab Republic\n220: Tajikistan\n221: Tanzania\n222: Thailand\n223: Timor-Leste\n224: Togo\n225: Tonga\n226: Trinidad and Tobago\n227: Tunisia\n228: Turkey\n229: Turkmenistan\n230: Turks and Caicos Islands\n231: Tuvalu\n232: Uganda\n233: Ukraine\n234: United Arab Emirates\n235: United Kingdom\n236: United States\n237: Uruguay\n238: Uzbekistan\n239: Vanuatu\n240: Venezuela, RB\n241: Vietnam\n242: Virgin Islands (U.S.)\n243: West Bank and Gaza\n244: Yemen, Rep.\n245: Zambia\n246: Zimbabwe\n"
    }
   ],
   "source": [
    "type(countries)\n",
    "empty_list = []\n",
    "#for i in countries:\n",
    " #   if 'India' == i:\n",
    "  #      empty_list = 'India'\n",
    "   #        print(empty_list)\n",
    "for idx, word in enumerate(countries):\n",
    "    \n",
    "    print(f\"{idx}: {word}\")        "
   ]
  },
  {
   "cell_type": "code",
   "execution_count": 159,
   "metadata": {},
   "outputs": [
    {
     "output_type": "execute_result",
     "data": {
      "text/plain": "['India', 'Indonesia', 'Iran, Islamic Rep.']"
     },
     "metadata": {},
     "execution_count": 159
    }
   ],
   "source": [
    "countries[119:122]"
   ]
  },
  {
   "cell_type": "code",
   "execution_count": 144,
   "metadata": {},
   "outputs": [
    {
     "output_type": "execute_result",
     "data": {
      "text/plain": "list"
     },
     "metadata": {},
     "execution_count": 144
    }
   ],
   "source": [
    "type()"
   ]
  },
  {
   "cell_type": "code",
   "execution_count": 142,
   "metadata": {},
   "outputs": [
    {
     "output_type": "execute_result",
     "data": {
      "text/plain": "'India'"
     },
     "metadata": {},
     "execution_count": 142
    }
   ],
   "source": [
    "empty_list"
   ]
  },
  {
   "cell_type": "code",
   "execution_count": 145,
   "metadata": {},
   "outputs": [
    {
     "output_type": "execute_result",
     "data": {
      "text/plain": "5"
     },
     "metadata": {},
     "execution_count": 145
    }
   ],
   "source": [
    "len(empty_list)"
   ]
  },
  {
   "cell_type": "code",
   "execution_count": 111,
   "metadata": {},
   "outputs": [
    {
     "output_type": "execute_result",
     "data": {
      "text/plain": "['Gross enrolment ratio, secondary, both sexes (%)']"
     },
     "metadata": {},
     "execution_count": 111
    }
   ],
   "source": [
    "# pick one indicator randomly\n",
    "indicatorFilter = random.sample(indicators, 1)\n",
    "type(indicatorFilter)\n",
    "indicatorFilter"
   ]
  },
  {
   "cell_type": "code",
   "execution_count": 214,
   "metadata": {},
   "outputs": [],
   "source": [
    "c1 = 'India'\n",
    "mask1 = read_data['CountryName'].str.contains(c1)\n",
    "c2 = 'United States'\n",
    "mask2 = read_data['CountryName'].str.contains(c2)\n",
    "\n",
    ""
   ]
  },
  {
   "cell_type": "code",
   "execution_count": 215,
   "metadata": {},
   "outputs": [],
   "source": [
    "stage1 = read_data[mask1]"
   ]
  },
  {
   "cell_type": "code",
   "execution_count": 216,
   "metadata": {},
   "outputs": [
    {
     "output_type": "execute_result",
     "data": {
      "text/plain": "      CountryName CountryCode  \\\n11561       India         IND   \n11562       India         IND   \n11563       India         IND   \n11564       India         IND   \n11565       India         IND   \n\n                                           IndicatorName   IndicatorCode  \\\n11561  Adolescent fertility rate (births per 1,000 wo...     SP.ADO.TFRT   \n11562  Age dependency ratio (% of working-age populat...     SP.POP.DPND   \n11563  Age dependency ratio, old (% of working-age po...  SP.POP.DPND.OL   \n11564  Age dependency ratio, young (% of working-age ...  SP.POP.DPND.YG   \n11565                Agriculture, value added (% of GDP)  NV.AGR.TOTL.ZS   \n\n       Year       Value  \n11561  1960  103.938000  \n11562  1960   76.559538  \n11563  1960    5.403730  \n11564  1960   71.155808  \n11565  1960   42.561131  ",
      "text/html": "<div>\n<style scoped>\n    .dataframe tbody tr th:only-of-type {\n        vertical-align: middle;\n    }\n\n    .dataframe tbody tr th {\n        vertical-align: top;\n    }\n\n    .dataframe thead th {\n        text-align: right;\n    }\n</style>\n<table border=\"1\" class=\"dataframe\">\n  <thead>\n    <tr style=\"text-align: right;\">\n      <th></th>\n      <th>CountryName</th>\n      <th>CountryCode</th>\n      <th>IndicatorName</th>\n      <th>IndicatorCode</th>\n      <th>Year</th>\n      <th>Value</th>\n    </tr>\n  </thead>\n  <tbody>\n    <tr>\n      <th>11561</th>\n      <td>India</td>\n      <td>IND</td>\n      <td>Adolescent fertility rate (births per 1,000 wo...</td>\n      <td>SP.ADO.TFRT</td>\n      <td>1960</td>\n      <td>103.938000</td>\n    </tr>\n    <tr>\n      <th>11562</th>\n      <td>India</td>\n      <td>IND</td>\n      <td>Age dependency ratio (% of working-age populat...</td>\n      <td>SP.POP.DPND</td>\n      <td>1960</td>\n      <td>76.559538</td>\n    </tr>\n    <tr>\n      <th>11563</th>\n      <td>India</td>\n      <td>IND</td>\n      <td>Age dependency ratio, old (% of working-age po...</td>\n      <td>SP.POP.DPND.OL</td>\n      <td>1960</td>\n      <td>5.403730</td>\n    </tr>\n    <tr>\n      <th>11564</th>\n      <td>India</td>\n      <td>IND</td>\n      <td>Age dependency ratio, young (% of working-age ...</td>\n      <td>SP.POP.DPND.YG</td>\n      <td>1960</td>\n      <td>71.155808</td>\n    </tr>\n    <tr>\n      <th>11565</th>\n      <td>India</td>\n      <td>IND</td>\n      <td>Agriculture, value added (% of GDP)</td>\n      <td>NV.AGR.TOTL.ZS</td>\n      <td>1960</td>\n      <td>42.561131</td>\n    </tr>\n  </tbody>\n</table>\n</div>"
     },
     "metadata": {},
     "execution_count": 216
    }
   ],
   "source": [
    "stage1.head()"
   ]
  },
  {
   "cell_type": "code",
   "execution_count": 217,
   "metadata": {},
   "outputs": [
    {
     "output_type": "execute_result",
     "data": {
      "text/plain": "'India'"
     },
     "metadata": {},
     "execution_count": 217
    }
   ],
   "source": [
    "stage1['CountryName'].iloc[0]"
   ]
  },
  {
   "cell_type": "code",
   "execution_count": 218,
   "metadata": {},
   "outputs": [],
   "source": [
    "stage2 = read_data[mask2]\n",
    ""
   ]
  },
  {
   "cell_type": "code",
   "execution_count": 219,
   "metadata": {},
   "outputs": [
    {
     "output_type": "execute_result",
     "data": {
      "text/plain": "         CountryName CountryCode  \\\n22220  United States         USA   \n22221  United States         USA   \n22222  United States         USA   \n22223  United States         USA   \n22224  United States         USA   \n\n                                           IndicatorName      IndicatorCode  \\\n22220  Adolescent fertility rate (births per 1,000 wo...        SP.ADO.TFRT   \n22221  Age dependency ratio (% of working-age populat...        SP.POP.DPND   \n22222  Age dependency ratio, old (% of working-age po...     SP.POP.DPND.OL   \n22223  Age dependency ratio, young (% of working-age ...     SP.POP.DPND.YG   \n22224  Alternative and nuclear energy (% of total ene...  EG.USE.COMM.CL.ZS   \n\n       Year      Value  \n22220  1960  84.987200  \n22221  1960  66.524844  \n22222  1960  15.230264  \n22223  1960  51.294580  \n22224  1960   1.261261  ",
      "text/html": "<div>\n<style scoped>\n    .dataframe tbody tr th:only-of-type {\n        vertical-align: middle;\n    }\n\n    .dataframe tbody tr th {\n        vertical-align: top;\n    }\n\n    .dataframe thead th {\n        text-align: right;\n    }\n</style>\n<table border=\"1\" class=\"dataframe\">\n  <thead>\n    <tr style=\"text-align: right;\">\n      <th></th>\n      <th>CountryName</th>\n      <th>CountryCode</th>\n      <th>IndicatorName</th>\n      <th>IndicatorCode</th>\n      <th>Year</th>\n      <th>Value</th>\n    </tr>\n  </thead>\n  <tbody>\n    <tr>\n      <th>22220</th>\n      <td>United States</td>\n      <td>USA</td>\n      <td>Adolescent fertility rate (births per 1,000 wo...</td>\n      <td>SP.ADO.TFRT</td>\n      <td>1960</td>\n      <td>84.987200</td>\n    </tr>\n    <tr>\n      <th>22221</th>\n      <td>United States</td>\n      <td>USA</td>\n      <td>Age dependency ratio (% of working-age populat...</td>\n      <td>SP.POP.DPND</td>\n      <td>1960</td>\n      <td>66.524844</td>\n    </tr>\n    <tr>\n      <th>22222</th>\n      <td>United States</td>\n      <td>USA</td>\n      <td>Age dependency ratio, old (% of working-age po...</td>\n      <td>SP.POP.DPND.OL</td>\n      <td>1960</td>\n      <td>15.230264</td>\n    </tr>\n    <tr>\n      <th>22223</th>\n      <td>United States</td>\n      <td>USA</td>\n      <td>Age dependency ratio, young (% of working-age ...</td>\n      <td>SP.POP.DPND.YG</td>\n      <td>1960</td>\n      <td>51.294580</td>\n    </tr>\n    <tr>\n      <th>22224</th>\n      <td>United States</td>\n      <td>USA</td>\n      <td>Alternative and nuclear energy (% of total ene...</td>\n      <td>EG.USE.COMM.CL.ZS</td>\n      <td>1960</td>\n      <td>1.261261</td>\n    </tr>\n  </tbody>\n</table>\n</div>"
     },
     "metadata": {},
     "execution_count": 219
    }
   ],
   "source": [
    "stage2.head()"
   ]
  },
  {
   "cell_type": "code",
   "execution_count": 220,
   "metadata": {},
   "outputs": [
    {
     "output_type": "execute_result",
     "data": {
      "text/plain": "'United States'"
     },
     "metadata": {},
     "execution_count": 220
    }
   ],
   "source": [
    "stage2['CountryName'].iloc[0]"
   ]
  },
  {
   "cell_type": "code",
   "execution_count": null,
   "metadata": {},
   "outputs": [],
   "source": []
  }
 ]
}