{
 "nbformat": 4,
 "nbformat_minor": 2,
 "metadata": {
  "language_info": {
   "name": "python",
   "codemirror_mode": {
    "name": "ipython",
    "version": 3
   },
   "version": "3.7.6-final"
  },
  "orig_nbformat": 2,
  "file_extension": ".py",
  "mimetype": "text/x-python",
  "name": "python",
  "npconvert_exporter": "python",
  "pygments_lexer": "ipython3",
  "version": 3,
  "kernelspec": {
   "name": "python37664bitbasecondaf63dcb98b9c946469c70cf84254e419f",
   "display_name": "Python 3.7.6 64-bit ('base': conda)"
  }
 },
 "cells": [
  {
   "cell_type": "code",
   "execution_count": 1,
   "metadata": {},
   "outputs": [],
   "source": [
    "import pandas as pd\n",
    "import numpy as np\n",
    "import random\n",
    "import matplotlib.pyplot as plt"
   ]
  },
  {
   "cell_type": "code",
   "execution_count": 2,
   "metadata": {},
   "outputs": [],
   "source": [
    "read_file = pd.read_csv('/home/srujan/Downloads/world-development-indicators/Indicators.csv')"
   ]
  },
  {
   "cell_type": "code",
   "execution_count": 3,
   "metadata": {},
   "outputs": [
    {
     "output_type": "execute_result",
     "data": {
      "text/plain": "  CountryName CountryCode                                      IndicatorName  \\\n0  Arab World         ARB  Adolescent fertility rate (births per 1,000 wo...   \n1  Arab World         ARB  Age dependency ratio (% of working-age populat...   \n2  Arab World         ARB  Age dependency ratio, old (% of working-age po...   \n\n    IndicatorCode  Year       Value  \n0     SP.ADO.TFRT  1960  133.560907  \n1     SP.POP.DPND  1960   87.797601  \n2  SP.POP.DPND.OL  1960    6.634579  ",
      "text/html": "<div>\n<style scoped>\n    .dataframe tbody tr th:only-of-type {\n        vertical-align: middle;\n    }\n\n    .dataframe tbody tr th {\n        vertical-align: top;\n    }\n\n    .dataframe thead th {\n        text-align: right;\n    }\n</style>\n<table border=\"1\" class=\"dataframe\">\n  <thead>\n    <tr style=\"text-align: right;\">\n      <th></th>\n      <th>CountryName</th>\n      <th>CountryCode</th>\n      <th>IndicatorName</th>\n      <th>IndicatorCode</th>\n      <th>Year</th>\n      <th>Value</th>\n    </tr>\n  </thead>\n  <tbody>\n    <tr>\n      <th>0</th>\n      <td>Arab World</td>\n      <td>ARB</td>\n      <td>Adolescent fertility rate (births per 1,000 wo...</td>\n      <td>SP.ADO.TFRT</td>\n      <td>1960</td>\n      <td>133.560907</td>\n    </tr>\n    <tr>\n      <th>1</th>\n      <td>Arab World</td>\n      <td>ARB</td>\n      <td>Age dependency ratio (% of working-age populat...</td>\n      <td>SP.POP.DPND</td>\n      <td>1960</td>\n      <td>87.797601</td>\n    </tr>\n    <tr>\n      <th>2</th>\n      <td>Arab World</td>\n      <td>ARB</td>\n      <td>Age dependency ratio, old (% of working-age po...</td>\n      <td>SP.POP.DPND.OL</td>\n      <td>1960</td>\n      <td>6.634579</td>\n    </tr>\n  </tbody>\n</table>\n</div>"
     },
     "metadata": {},
     "execution_count": 3
    }
   ],
   "source": [
    "read_file.head(3)"
   ]
  },
  {
   "cell_type": "code",
   "execution_count": 13,
   "metadata": {},
   "outputs": [
    {
     "output_type": "execute_result",
     "data": {
      "text/plain": "       CountryName CountryCode  \\\n11561        India         IND   \n36487        India         IND   \n64020        India         IND   \n92464        India         IND   \n121261       India         IND   \n\n                                            IndicatorName IndicatorCode  Year  \\\n11561   Adolescent fertility rate (births per 1,000 wo...   SP.ADO.TFRT  1960   \n36487   Adolescent fertility rate (births per 1,000 wo...   SP.ADO.TFRT  1961   \n64020   Adolescent fertility rate (births per 1,000 wo...   SP.ADO.TFRT  1962   \n92464   Adolescent fertility rate (births per 1,000 wo...   SP.ADO.TFRT  1963   \n121261  Adolescent fertility rate (births per 1,000 wo...   SP.ADO.TFRT  1964   \n\n           Value  \n11561   103.9380  \n36487   104.1120  \n64020   104.2860  \n92464   104.7854  \n121261  105.2848  ",
      "text/html": "<div>\n<style scoped>\n    .dataframe tbody tr th:only-of-type {\n        vertical-align: middle;\n    }\n\n    .dataframe tbody tr th {\n        vertical-align: top;\n    }\n\n    .dataframe thead th {\n        text-align: right;\n    }\n</style>\n<table border=\"1\" class=\"dataframe\">\n  <thead>\n    <tr style=\"text-align: right;\">\n      <th></th>\n      <th>CountryName</th>\n      <th>CountryCode</th>\n      <th>IndicatorName</th>\n      <th>IndicatorCode</th>\n      <th>Year</th>\n      <th>Value</th>\n    </tr>\n  </thead>\n  <tbody>\n    <tr>\n      <th>11561</th>\n      <td>India</td>\n      <td>IND</td>\n      <td>Adolescent fertility rate (births per 1,000 wo...</td>\n      <td>SP.ADO.TFRT</td>\n      <td>1960</td>\n      <td>103.9380</td>\n    </tr>\n    <tr>\n      <th>36487</th>\n      <td>India</td>\n      <td>IND</td>\n      <td>Adolescent fertility rate (births per 1,000 wo...</td>\n      <td>SP.ADO.TFRT</td>\n      <td>1961</td>\n      <td>104.1120</td>\n    </tr>\n    <tr>\n      <th>64020</th>\n      <td>India</td>\n      <td>IND</td>\n      <td>Adolescent fertility rate (births per 1,000 wo...</td>\n      <td>SP.ADO.TFRT</td>\n      <td>1962</td>\n      <td>104.2860</td>\n    </tr>\n    <tr>\n      <th>92464</th>\n      <td>India</td>\n      <td>IND</td>\n      <td>Adolescent fertility rate (births per 1,000 wo...</td>\n      <td>SP.ADO.TFRT</td>\n      <td>1963</td>\n      <td>104.7854</td>\n    </tr>\n    <tr>\n      <th>121261</th>\n      <td>India</td>\n      <td>IND</td>\n      <td>Adolescent fertility rate (births per 1,000 wo...</td>\n      <td>SP.ADO.TFRT</td>\n      <td>1964</td>\n      <td>105.2848</td>\n    </tr>\n  </tbody>\n</table>\n</div>"
     },
     "metadata": {},
     "execution_count": 13
    }
   ],
   "source": [
    "country = read_file['CountryName'].str.contains('India')\n",
    "indicator = read_file['IndicatorName'].str.contains('Adolescent fertility rate')\n",
    "#read_file[country].head()\n",
    "display = read_file[country & indicator]\n",
    "display.head()"
   ]
  },
  {
   "cell_type": "code",
   "execution_count": 16,
   "metadata": {},
   "outputs": [
    {
     "output_type": "execute_result",
     "data": {
      "text/plain": "array([1960, 1960, 1960, ..., 2015, 2015, 2015])"
     },
     "metadata": {},
     "execution_count": 16
    }
   ],
   "source": [
    "years = read_file['Year'].values\n",
    "years"
   ]
  },
  {
   "cell_type": "code",
   "execution_count": 17,
   "metadata": {},
   "outputs": [
    {
     "output_type": "execute_result",
     "data": {
      "text/plain": "array([133.56090741,  87.79760115,   6.63457919, ..., 242.        ,\n         3.3       ,  32.8       ])"
     },
     "metadata": {},
     "execution_count": 17
    }
   ],
   "source": [
    "adoles_values = read_file['Value'].values\n",
    "adoles_values"
   ]
  },
  {
   "cell_type": "code",
   "execution_count": null,
   "metadata": {},
   "outputs": [],
   "source": []
  }
 ]
}